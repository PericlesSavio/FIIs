{
 "cells": [
  {
   "cell_type": "code",
   "execution_count": 2,
   "metadata": {},
   "outputs": [
    {
     "ename": "ImportError",
     "evalue": "cannot import name 'csv_para_df' from 'fii' (d:\\OneDrive\\Trabalho\\LIS\\Péricles\\Python\\FII\\fii.py)",
     "output_type": "error",
     "traceback": [
      "\u001b[1;31m---------------------------------------------------------------------------\u001b[0m",
      "\u001b[1;31mImportError\u001b[0m                               Traceback (most recent call last)",
      "Cell \u001b[1;32mIn[2], line 8\u001b[0m\n\u001b[0;32m      6\u001b[0m \u001b[38;5;28;01mimport\u001b[39;00m \u001b[38;5;21;01mre\u001b[39;00m\n\u001b[0;32m      7\u001b[0m \u001b[38;5;28;01mimport\u001b[39;00m \u001b[38;5;21;01mcalendar\u001b[39;00m\n\u001b[1;32m----> 8\u001b[0m \u001b[38;5;28;01mfrom\u001b[39;00m \u001b[38;5;21;01mfii\u001b[39;00m \u001b[38;5;28;01mimport\u001b[39;00m FII, csv_para_df, fii_preco\n",
      "\u001b[1;31mImportError\u001b[0m: cannot import name 'csv_para_df' from 'fii' (d:\\OneDrive\\Trabalho\\LIS\\Péricles\\Python\\FII\\fii.py)"
     ]
    }
   ],
   "source": [
    "import pandas as pd\n",
    "import requests\n",
    "from bs4 import BeautifulSoup\n",
    "from selenium import webdriver\n",
    "#import yfinance as yf\n",
    "import re\n",
    "import calendar\n",
    "from fii import FII, csv_para_df, fii_preco"
   ]
  },
  {
   "cell_type": "code",
   "execution_count": 20,
   "metadata": {},
   "outputs": [
    {
     "data": {
      "application/vnd.plotly.v1+json": {
       "config": {
        "plotlyServerURL": "https://plot.ly"
       },
       "data": [
        {
         "hoverinfo": "text",
         "marker": {
          "color": "orange"
         },
         "name": "2023",
         "text": [
          "Proventos: R$1000.50<br>Ano: 2023",
          "Proventos: R$1500.75<br>Ano: 2023",
          "Proventos: R$800.30<br>Ano: 2023"
         ],
         "textposition": "outside",
         "type": "bar",
         "x": [
          "Jan",
          "Fev",
          "Mar"
         ],
         "y": [
          1000.5,
          1500.75,
          800.3
         ]
        },
        {
         "hoverinfo": "text",
         "name": "2024",
         "text": [
          "Proventos: R$1200.60<br>Ano: 2024",
          "Proventos: R$1700.80<br>Ano: 2024"
         ],
         "textposition": "outside",
         "type": "bar",
         "x": [
          "Jan",
          "Fev"
         ],
         "y": [
          1200.6,
          1700.8
         ]
        }
       ],
       "layout": {
        "template": {
         "data": {
          "bar": [
           {
            "error_x": {
             "color": "#2a3f5f"
            },
            "error_y": {
             "color": "#2a3f5f"
            },
            "marker": {
             "line": {
              "color": "#E5ECF6",
              "width": 0.5
             },
             "pattern": {
              "fillmode": "overlay",
              "size": 10,
              "solidity": 0.2
             }
            },
            "type": "bar"
           }
          ],
          "barpolar": [
           {
            "marker": {
             "line": {
              "color": "#E5ECF6",
              "width": 0.5
             },
             "pattern": {
              "fillmode": "overlay",
              "size": 10,
              "solidity": 0.2
             }
            },
            "type": "barpolar"
           }
          ],
          "carpet": [
           {
            "aaxis": {
             "endlinecolor": "#2a3f5f",
             "gridcolor": "white",
             "linecolor": "white",
             "minorgridcolor": "white",
             "startlinecolor": "#2a3f5f"
            },
            "baxis": {
             "endlinecolor": "#2a3f5f",
             "gridcolor": "white",
             "linecolor": "white",
             "minorgridcolor": "white",
             "startlinecolor": "#2a3f5f"
            },
            "type": "carpet"
           }
          ],
          "choropleth": [
           {
            "colorbar": {
             "outlinewidth": 0,
             "ticks": ""
            },
            "type": "choropleth"
           }
          ],
          "contour": [
           {
            "colorbar": {
             "outlinewidth": 0,
             "ticks": ""
            },
            "colorscale": [
             [
              0,
              "#0d0887"
             ],
             [
              0.1111111111111111,
              "#46039f"
             ],
             [
              0.2222222222222222,
              "#7201a8"
             ],
             [
              0.3333333333333333,
              "#9c179e"
             ],
             [
              0.4444444444444444,
              "#bd3786"
             ],
             [
              0.5555555555555556,
              "#d8576b"
             ],
             [
              0.6666666666666666,
              "#ed7953"
             ],
             [
              0.7777777777777778,
              "#fb9f3a"
             ],
             [
              0.8888888888888888,
              "#fdca26"
             ],
             [
              1,
              "#f0f921"
             ]
            ],
            "type": "contour"
           }
          ],
          "contourcarpet": [
           {
            "colorbar": {
             "outlinewidth": 0,
             "ticks": ""
            },
            "type": "contourcarpet"
           }
          ],
          "heatmap": [
           {
            "colorbar": {
             "outlinewidth": 0,
             "ticks": ""
            },
            "colorscale": [
             [
              0,
              "#0d0887"
             ],
             [
              0.1111111111111111,
              "#46039f"
             ],
             [
              0.2222222222222222,
              "#7201a8"
             ],
             [
              0.3333333333333333,
              "#9c179e"
             ],
             [
              0.4444444444444444,
              "#bd3786"
             ],
             [
              0.5555555555555556,
              "#d8576b"
             ],
             [
              0.6666666666666666,
              "#ed7953"
             ],
             [
              0.7777777777777778,
              "#fb9f3a"
             ],
             [
              0.8888888888888888,
              "#fdca26"
             ],
             [
              1,
              "#f0f921"
             ]
            ],
            "type": "heatmap"
           }
          ],
          "heatmapgl": [
           {
            "colorbar": {
             "outlinewidth": 0,
             "ticks": ""
            },
            "colorscale": [
             [
              0,
              "#0d0887"
             ],
             [
              0.1111111111111111,
              "#46039f"
             ],
             [
              0.2222222222222222,
              "#7201a8"
             ],
             [
              0.3333333333333333,
              "#9c179e"
             ],
             [
              0.4444444444444444,
              "#bd3786"
             ],
             [
              0.5555555555555556,
              "#d8576b"
             ],
             [
              0.6666666666666666,
              "#ed7953"
             ],
             [
              0.7777777777777778,
              "#fb9f3a"
             ],
             [
              0.8888888888888888,
              "#fdca26"
             ],
             [
              1,
              "#f0f921"
             ]
            ],
            "type": "heatmapgl"
           }
          ],
          "histogram": [
           {
            "marker": {
             "pattern": {
              "fillmode": "overlay",
              "size": 10,
              "solidity": 0.2
             }
            },
            "type": "histogram"
           }
          ],
          "histogram2d": [
           {
            "colorbar": {
             "outlinewidth": 0,
             "ticks": ""
            },
            "colorscale": [
             [
              0,
              "#0d0887"
             ],
             [
              0.1111111111111111,
              "#46039f"
             ],
             [
              0.2222222222222222,
              "#7201a8"
             ],
             [
              0.3333333333333333,
              "#9c179e"
             ],
             [
              0.4444444444444444,
              "#bd3786"
             ],
             [
              0.5555555555555556,
              "#d8576b"
             ],
             [
              0.6666666666666666,
              "#ed7953"
             ],
             [
              0.7777777777777778,
              "#fb9f3a"
             ],
             [
              0.8888888888888888,
              "#fdca26"
             ],
             [
              1,
              "#f0f921"
             ]
            ],
            "type": "histogram2d"
           }
          ],
          "histogram2dcontour": [
           {
            "colorbar": {
             "outlinewidth": 0,
             "ticks": ""
            },
            "colorscale": [
             [
              0,
              "#0d0887"
             ],
             [
              0.1111111111111111,
              "#46039f"
             ],
             [
              0.2222222222222222,
              "#7201a8"
             ],
             [
              0.3333333333333333,
              "#9c179e"
             ],
             [
              0.4444444444444444,
              "#bd3786"
             ],
             [
              0.5555555555555556,
              "#d8576b"
             ],
             [
              0.6666666666666666,
              "#ed7953"
             ],
             [
              0.7777777777777778,
              "#fb9f3a"
             ],
             [
              0.8888888888888888,
              "#fdca26"
             ],
             [
              1,
              "#f0f921"
             ]
            ],
            "type": "histogram2dcontour"
           }
          ],
          "mesh3d": [
           {
            "colorbar": {
             "outlinewidth": 0,
             "ticks": ""
            },
            "type": "mesh3d"
           }
          ],
          "parcoords": [
           {
            "line": {
             "colorbar": {
              "outlinewidth": 0,
              "ticks": ""
             }
            },
            "type": "parcoords"
           }
          ],
          "pie": [
           {
            "automargin": true,
            "type": "pie"
           }
          ],
          "scatter": [
           {
            "fillpattern": {
             "fillmode": "overlay",
             "size": 10,
             "solidity": 0.2
            },
            "type": "scatter"
           }
          ],
          "scatter3d": [
           {
            "line": {
             "colorbar": {
              "outlinewidth": 0,
              "ticks": ""
             }
            },
            "marker": {
             "colorbar": {
              "outlinewidth": 0,
              "ticks": ""
             }
            },
            "type": "scatter3d"
           }
          ],
          "scattercarpet": [
           {
            "marker": {
             "colorbar": {
              "outlinewidth": 0,
              "ticks": ""
             }
            },
            "type": "scattercarpet"
           }
          ],
          "scattergeo": [
           {
            "marker": {
             "colorbar": {
              "outlinewidth": 0,
              "ticks": ""
             }
            },
            "type": "scattergeo"
           }
          ],
          "scattergl": [
           {
            "marker": {
             "colorbar": {
              "outlinewidth": 0,
              "ticks": ""
             }
            },
            "type": "scattergl"
           }
          ],
          "scattermapbox": [
           {
            "marker": {
             "colorbar": {
              "outlinewidth": 0,
              "ticks": ""
             }
            },
            "type": "scattermapbox"
           }
          ],
          "scatterpolar": [
           {
            "marker": {
             "colorbar": {
              "outlinewidth": 0,
              "ticks": ""
             }
            },
            "type": "scatterpolar"
           }
          ],
          "scatterpolargl": [
           {
            "marker": {
             "colorbar": {
              "outlinewidth": 0,
              "ticks": ""
             }
            },
            "type": "scatterpolargl"
           }
          ],
          "scatterternary": [
           {
            "marker": {
             "colorbar": {
              "outlinewidth": 0,
              "ticks": ""
             }
            },
            "type": "scatterternary"
           }
          ],
          "surface": [
           {
            "colorbar": {
             "outlinewidth": 0,
             "ticks": ""
            },
            "colorscale": [
             [
              0,
              "#0d0887"
             ],
             [
              0.1111111111111111,
              "#46039f"
             ],
             [
              0.2222222222222222,
              "#7201a8"
             ],
             [
              0.3333333333333333,
              "#9c179e"
             ],
             [
              0.4444444444444444,
              "#bd3786"
             ],
             [
              0.5555555555555556,
              "#d8576b"
             ],
             [
              0.6666666666666666,
              "#ed7953"
             ],
             [
              0.7777777777777778,
              "#fb9f3a"
             ],
             [
              0.8888888888888888,
              "#fdca26"
             ],
             [
              1,
              "#f0f921"
             ]
            ],
            "type": "surface"
           }
          ],
          "table": [
           {
            "cells": {
             "fill": {
              "color": "#EBF0F8"
             },
             "line": {
              "color": "white"
             }
            },
            "header": {
             "fill": {
              "color": "#C8D4E3"
             },
             "line": {
              "color": "white"
             }
            },
            "type": "table"
           }
          ]
         },
         "layout": {
          "annotationdefaults": {
           "arrowcolor": "#2a3f5f",
           "arrowhead": 0,
           "arrowwidth": 1
          },
          "autotypenumbers": "strict",
          "coloraxis": {
           "colorbar": {
            "outlinewidth": 0,
            "ticks": ""
           }
          },
          "colorscale": {
           "diverging": [
            [
             0,
             "#8e0152"
            ],
            [
             0.1,
             "#c51b7d"
            ],
            [
             0.2,
             "#de77ae"
            ],
            [
             0.3,
             "#f1b6da"
            ],
            [
             0.4,
             "#fde0ef"
            ],
            [
             0.5,
             "#f7f7f7"
            ],
            [
             0.6,
             "#e6f5d0"
            ],
            [
             0.7,
             "#b8e186"
            ],
            [
             0.8,
             "#7fbc41"
            ],
            [
             0.9,
             "#4d9221"
            ],
            [
             1,
             "#276419"
            ]
           ],
           "sequential": [
            [
             0,
             "#0d0887"
            ],
            [
             0.1111111111111111,
             "#46039f"
            ],
            [
             0.2222222222222222,
             "#7201a8"
            ],
            [
             0.3333333333333333,
             "#9c179e"
            ],
            [
             0.4444444444444444,
             "#bd3786"
            ],
            [
             0.5555555555555556,
             "#d8576b"
            ],
            [
             0.6666666666666666,
             "#ed7953"
            ],
            [
             0.7777777777777778,
             "#fb9f3a"
            ],
            [
             0.8888888888888888,
             "#fdca26"
            ],
            [
             1,
             "#f0f921"
            ]
           ],
           "sequentialminus": [
            [
             0,
             "#0d0887"
            ],
            [
             0.1111111111111111,
             "#46039f"
            ],
            [
             0.2222222222222222,
             "#7201a8"
            ],
            [
             0.3333333333333333,
             "#9c179e"
            ],
            [
             0.4444444444444444,
             "#bd3786"
            ],
            [
             0.5555555555555556,
             "#d8576b"
            ],
            [
             0.6666666666666666,
             "#ed7953"
            ],
            [
             0.7777777777777778,
             "#fb9f3a"
            ],
            [
             0.8888888888888888,
             "#fdca26"
            ],
            [
             1,
             "#f0f921"
            ]
           ]
          },
          "colorway": [
           "#636efa",
           "#EF553B",
           "#00cc96",
           "#ab63fa",
           "#FFA15A",
           "#19d3f3",
           "#FF6692",
           "#B6E880",
           "#FF97FF",
           "#FECB52"
          ],
          "font": {
           "color": "#2a3f5f"
          },
          "geo": {
           "bgcolor": "white",
           "lakecolor": "white",
           "landcolor": "#E5ECF6",
           "showlakes": true,
           "showland": true,
           "subunitcolor": "white"
          },
          "hoverlabel": {
           "align": "left"
          },
          "hovermode": "closest",
          "mapbox": {
           "style": "light"
          },
          "paper_bgcolor": "white",
          "plot_bgcolor": "#E5ECF6",
          "polar": {
           "angularaxis": {
            "gridcolor": "white",
            "linecolor": "white",
            "ticks": ""
           },
           "bgcolor": "#E5ECF6",
           "radialaxis": {
            "gridcolor": "white",
            "linecolor": "white",
            "ticks": ""
           }
          },
          "scene": {
           "xaxis": {
            "backgroundcolor": "#E5ECF6",
            "gridcolor": "white",
            "gridwidth": 2,
            "linecolor": "white",
            "showbackground": true,
            "ticks": "",
            "zerolinecolor": "white"
           },
           "yaxis": {
            "backgroundcolor": "#E5ECF6",
            "gridcolor": "white",
            "gridwidth": 2,
            "linecolor": "white",
            "showbackground": true,
            "ticks": "",
            "zerolinecolor": "white"
           },
           "zaxis": {
            "backgroundcolor": "#E5ECF6",
            "gridcolor": "white",
            "gridwidth": 2,
            "linecolor": "white",
            "showbackground": true,
            "ticks": "",
            "zerolinecolor": "white"
           }
          },
          "shapedefaults": {
           "line": {
            "color": "#2a3f5f"
           }
          },
          "ternary": {
           "aaxis": {
            "gridcolor": "white",
            "linecolor": "white",
            "ticks": ""
           },
           "baxis": {
            "gridcolor": "white",
            "linecolor": "white",
            "ticks": ""
           },
           "bgcolor": "#E5ECF6",
           "caxis": {
            "gridcolor": "white",
            "linecolor": "white",
            "ticks": ""
           }
          },
          "title": {
           "x": 0.05
          },
          "xaxis": {
           "automargin": true,
           "gridcolor": "white",
           "linecolor": "white",
           "ticks": "",
           "title": {
            "standoff": 15
           },
           "zerolinecolor": "white",
           "zerolinewidth": 2
          },
          "yaxis": {
           "automargin": true,
           "gridcolor": "white",
           "linecolor": "white",
           "ticks": "",
           "title": {
            "standoff": 15
           },
           "zerolinecolor": "white",
           "zerolinewidth": 2
          }
         }
        },
        "title": {
         "text": "Proventos por mês"
        },
        "xaxis": {
         "title": {
          "text": "Mês"
         }
        },
        "yaxis": {
         "title": {
          "text": "Proventos"
         }
        }
       }
      }
     },
     "metadata": {},
     "output_type": "display_data"
    }
   ],
   "source": [
    "import pandas as pd\n",
    "import plotly.graph_objs as go\n",
    "\n",
    "# Criando um exemplo de dataframe\n",
    "dados = {\n",
    "    'data': ['2023-01-15', '2023-02-20', '2023-03-10', '2024-01-05', '2024-02-12'],\n",
    "    'proventos': [1000.50, 1500.75, 800.30, 1200.60, 1700.80]\n",
    "}\n",
    "\n",
    "rendimentos = pd.DataFrame(dados)\n",
    "rendimentos['data'] = pd.to_datetime(rendimentos['data'])\n",
    "\n",
    "# Filtrando os dados por ano\n",
    "rendimentos_2023 = rendimentos[rendimentos['data'].dt.year == 2023]\n",
    "rendimentos_2024 = rendimentos[rendimentos['data'].dt.year == 2024]\n",
    "\n",
    "# Calculando a soma dos proventos por mês para cada ano\n",
    "rendimentos_2023_agrupados = rendimentos_2023.groupby(rendimentos_2023['data'].dt.month)['proventos'].sum()\n",
    "rendimentos_2024_agrupados = rendimentos_2024.groupby(rendimentos_2024['data'].dt.month)['proventos'].sum()\n",
    "\n",
    "# Mapeando números de meses para nomes de meses\n",
    "meses = {\n",
    "    1: 'Jan',\n",
    "    2: 'Fev',\n",
    "    3: 'Mar',\n",
    "    4: 'Abr',\n",
    "    5: 'Mai',\n",
    "    6: 'Jun',\n",
    "    7: 'Jul',\n",
    "    8: 'Ago',\n",
    "    9: 'Set',\n",
    "    10: 'Out',\n",
    "    11: 'Nov',\n",
    "    12: 'Dez'\n",
    "}\n",
    "\n",
    "# Criando o gráfico de barras\n",
    "trace1 = go.Bar(\n",
    "    x=[meses[mes] for mes in rendimentos_2023_agrupados.index],\n",
    "    y=rendimentos_2023_agrupados.values,\n",
    "    name='2023',\n",
    "    marker=dict(color='orange'),  # Definindo a cor laranja para as barras de 2023\n",
    "    hoverinfo='text',\n",
    "    text=[f'Proventos: R${valor:.2f}<br>Ano: 2023' for valor in rendimentos_2023_agrupados.values],\n",
    "    textposition='outside'  # Colocando o texto fora das barras\n",
    ")\n",
    "trace2 = go.Bar(\n",
    "    x=[meses[mes] for mes in rendimentos_2024_agrupados.index],\n",
    "    y=rendimentos_2024_agrupados.values,\n",
    "    name='2024',\n",
    "    hoverinfo='text',\n",
    "    text=[f'Proventos: R${valor:.2f}<br>Ano: 2024' for valor in rendimentos_2024_agrupados.values],\n",
    "    textposition='outside'  # Colocando o texto fora das barras\n",
    ")\n",
    "\n",
    "layout = go.Layout(\n",
    "    title='Proventos por mês',\n",
    "    xaxis=dict(title='Mês'),\n",
    "    yaxis=dict(title='Proventos')\n",
    ")\n",
    "\n",
    "fig = go.Figure(data=[trace1, trace2], layout=layout)\n",
    "\n",
    "# Plotando o gráfico\n",
    "fig.show()\n"
   ]
  },
  {
   "cell_type": "code",
   "execution_count": 11,
   "metadata": {},
   "outputs": [],
   "source": [
    "fii_codigo = 'GGRC11'\n",
    "\n",
    "ano = 2024\n",
    "mes = 1\n",
    "\n",
    "fii = FII(fii_codigo, ano, mes)\n",
    "\n",
    "try:\n",
    "    informes = fii.fii_informe()\n",
    "    informes.to_csv(f'./csv/{fii_codigo}_informes_{ano}_{mes}.csv', sep=';', index=False)\n",
    "except:\n",
    "    pass"
   ]
  },
  {
   "cell_type": "code",
   "execution_count": 6,
   "metadata": {},
   "outputs": [
    {
     "data": {
      "text/plain": [
       "'R$ 3.445.982.046,45'"
      ]
     },
     "execution_count": 6,
     "metadata": {},
     "output_type": "execute_result"
    }
   ],
   "source": [
    "import locale\n",
    "\n",
    "def formato(valor):\n",
    "    locale.setlocale(locale.LC_ALL, 'pt_BR.UTF-8')\n",
    "    return locale.currency(valor, grouping=True)\n",
    "\n",
    "formato(3445982046.45)"
   ]
  },
  {
   "cell_type": "code",
   "execution_count": 3,
   "metadata": {},
   "outputs": [],
   "source": [
    "fiis = ['XPML11']\n",
    "\n",
    "anos = [2023]\n",
    "meses = [12, 11, 10, 9, 8, 7, 6, 5, 4, 3, 2, 1]\n",
    "\n",
    "for fii_codigo in fiis:\n",
    "    for ano in anos:\n",
    "        for mes in meses:\n",
    "            fii = FII(fii_codigo, ano, mes)\n",
    "\n",
    "\n",
    "\n",
    "            try:\n",
    "                informes = fii.fii_informe()\n",
    "                informes.to_csv(f'./csv/{fii_codigo}_informes_{ano}_{mes}.csv', sep=';', index=False)\n",
    "            except:\n",
    "                pass"
   ]
  },
  {
   "cell_type": "code",
   "execution_count": null,
   "metadata": {},
   "outputs": [],
   "source": []
  },
  {
   "cell_type": "code",
   "execution_count": 3,
   "metadata": {},
   "outputs": [],
   "source": [
    "import yfinance as yf\n",
    "import plotly.graph_objects as go\n",
    "\n",
    "def grafico_preco(fii_codigo):\n",
    "    ticker = fii_codigo+'.SA'\n",
    "\n",
    "    hist = yf.download(ticker, period=\"52wk\")\n",
    "    atual = hist['Close'].iloc[-1]\n",
    "\n",
    "    fig = go.Figure()\n",
    "\n",
    "    fig.add_trace(go.Scatter(x=hist.index, y=hist['Close'], mode='lines', name='Preço de Fechamento'))\n",
    "\n",
    "    fig.add_trace(go.Scatter(x=[hist.index[-1]], y=[atual], mode='markers', marker=dict(color='red'), name='Preço Atual'))\n",
    "\n",
    "    fig.update_layout(title='Preço atual e dia correspondente',\n",
    "                    xaxis_title='Data',\n",
    "                    yaxis_title='Preço (R$)')\n",
    "\n",
    "    return fig.show()\n"
   ]
  },
  {
   "cell_type": "code",
   "execution_count": 12,
   "metadata": {},
   "outputs": [
    {
     "name": "stderr",
     "output_type": "stream",
     "text": [
      "[*********************100%%**********************]  1 of 1 completed\n"
     ]
    },
    {
     "data": {
      "application/vnd.plotly.v1+json": {
       "config": {
        "plotlyServerURL": "https://plot.ly"
       },
       "data": [
        {
         "mode": "lines",
         "name": "Preço de Fechamento",
         "type": "scatter",
         "x": [
          "2023-02-09T00:00:00",
          "2023-02-10T00:00:00",
          "2023-02-13T00:00:00",
          "2023-02-14T00:00:00",
          "2023-02-15T00:00:00",
          "2023-02-16T00:00:00",
          "2023-02-17T00:00:00",
          "2023-02-22T00:00:00",
          "2023-02-23T00:00:00",
          "2023-02-24T00:00:00",
          "2023-02-27T00:00:00",
          "2023-02-28T00:00:00",
          "2023-03-01T00:00:00",
          "2023-03-02T00:00:00",
          "2023-03-03T00:00:00",
          "2023-03-06T00:00:00",
          "2023-03-07T00:00:00",
          "2023-03-08T00:00:00",
          "2023-03-09T00:00:00",
          "2023-03-10T00:00:00",
          "2023-03-13T00:00:00",
          "2023-03-14T00:00:00",
          "2023-03-15T00:00:00",
          "2023-03-16T00:00:00",
          "2023-03-17T00:00:00",
          "2023-03-20T00:00:00",
          "2023-03-21T00:00:00",
          "2023-03-22T00:00:00",
          "2023-03-23T00:00:00",
          "2023-03-24T00:00:00",
          "2023-03-27T00:00:00",
          "2023-03-28T00:00:00",
          "2023-03-29T00:00:00",
          "2023-03-30T00:00:00",
          "2023-03-31T00:00:00",
          "2023-04-03T00:00:00",
          "2023-04-04T00:00:00",
          "2023-04-05T00:00:00",
          "2023-04-06T00:00:00",
          "2023-04-10T00:00:00",
          "2023-04-11T00:00:00",
          "2023-04-12T00:00:00",
          "2023-04-13T00:00:00",
          "2023-04-14T00:00:00",
          "2023-04-17T00:00:00",
          "2023-04-18T00:00:00",
          "2023-04-19T00:00:00",
          "2023-04-20T00:00:00",
          "2023-04-24T00:00:00",
          "2023-04-25T00:00:00",
          "2023-04-26T00:00:00",
          "2023-04-27T00:00:00",
          "2023-04-28T00:00:00",
          "2023-05-02T00:00:00",
          "2023-05-03T00:00:00",
          "2023-05-04T00:00:00",
          "2023-05-05T00:00:00",
          "2023-05-08T00:00:00",
          "2023-05-09T00:00:00",
          "2023-05-10T00:00:00",
          "2023-05-11T00:00:00",
          "2023-05-12T00:00:00",
          "2023-05-15T00:00:00",
          "2023-05-16T00:00:00",
          "2023-05-17T00:00:00",
          "2023-05-18T00:00:00",
          "2023-05-19T00:00:00",
          "2023-05-22T00:00:00",
          "2023-05-23T00:00:00",
          "2023-05-24T00:00:00",
          "2023-05-25T00:00:00",
          "2023-05-26T00:00:00",
          "2023-05-29T00:00:00",
          "2023-05-30T00:00:00",
          "2023-05-31T00:00:00",
          "2023-06-01T00:00:00",
          "2023-06-02T00:00:00",
          "2023-06-05T00:00:00",
          "2023-06-06T00:00:00",
          "2023-06-07T00:00:00",
          "2023-06-09T00:00:00",
          "2023-06-12T00:00:00",
          "2023-06-13T00:00:00",
          "2023-06-14T00:00:00",
          "2023-06-15T00:00:00",
          "2023-06-16T00:00:00",
          "2023-06-19T00:00:00",
          "2023-06-20T00:00:00",
          "2023-06-21T00:00:00",
          "2023-06-22T00:00:00",
          "2023-06-23T00:00:00",
          "2023-06-26T00:00:00",
          "2023-06-27T00:00:00",
          "2023-06-28T00:00:00",
          "2023-06-29T00:00:00",
          "2023-06-30T00:00:00",
          "2023-07-03T00:00:00",
          "2023-07-04T00:00:00",
          "2023-07-05T00:00:00",
          "2023-07-06T00:00:00",
          "2023-07-07T00:00:00",
          "2023-07-10T00:00:00",
          "2023-07-11T00:00:00",
          "2023-07-12T00:00:00",
          "2023-07-13T00:00:00",
          "2023-07-14T00:00:00",
          "2023-07-17T00:00:00",
          "2023-07-18T00:00:00",
          "2023-07-19T00:00:00",
          "2023-07-20T00:00:00",
          "2023-07-21T00:00:00",
          "2023-07-24T00:00:00",
          "2023-07-25T00:00:00",
          "2023-07-26T00:00:00",
          "2023-07-27T00:00:00",
          "2023-07-28T00:00:00",
          "2023-07-31T00:00:00",
          "2023-08-01T00:00:00",
          "2023-08-02T00:00:00",
          "2023-08-03T00:00:00",
          "2023-08-04T00:00:00",
          "2023-08-07T00:00:00",
          "2023-08-08T00:00:00",
          "2023-08-09T00:00:00",
          "2023-08-10T00:00:00",
          "2023-08-11T00:00:00",
          "2023-08-14T00:00:00",
          "2023-08-15T00:00:00",
          "2023-08-16T00:00:00",
          "2023-08-17T00:00:00",
          "2023-08-18T00:00:00",
          "2023-08-21T00:00:00",
          "2023-08-22T00:00:00",
          "2023-08-23T00:00:00",
          "2023-08-24T00:00:00",
          "2023-08-25T00:00:00",
          "2023-08-28T00:00:00",
          "2023-08-29T00:00:00",
          "2023-08-30T00:00:00",
          "2023-08-31T00:00:00",
          "2023-09-01T00:00:00",
          "2023-09-04T00:00:00",
          "2023-09-05T00:00:00",
          "2023-09-06T00:00:00",
          "2023-09-08T00:00:00",
          "2023-09-11T00:00:00",
          "2023-09-12T00:00:00",
          "2023-09-13T00:00:00",
          "2023-09-14T00:00:00",
          "2023-09-15T00:00:00",
          "2023-09-18T00:00:00",
          "2023-09-19T00:00:00",
          "2023-09-20T00:00:00",
          "2023-09-21T00:00:00",
          "2023-09-22T00:00:00",
          "2023-09-25T00:00:00",
          "2023-09-26T00:00:00",
          "2023-09-27T00:00:00",
          "2023-09-28T00:00:00",
          "2023-09-29T00:00:00",
          "2023-10-02T00:00:00",
          "2023-10-03T00:00:00",
          "2023-10-04T00:00:00",
          "2023-10-05T00:00:00",
          "2023-10-06T00:00:00",
          "2023-10-09T00:00:00",
          "2023-10-10T00:00:00",
          "2023-10-11T00:00:00",
          "2023-10-13T00:00:00",
          "2023-10-16T00:00:00",
          "2023-10-17T00:00:00",
          "2023-10-18T00:00:00",
          "2023-10-19T00:00:00",
          "2023-10-20T00:00:00",
          "2023-10-23T00:00:00",
          "2023-10-24T00:00:00",
          "2023-10-25T00:00:00",
          "2023-10-26T00:00:00",
          "2023-10-27T00:00:00",
          "2023-10-30T00:00:00",
          "2023-10-31T00:00:00",
          "2023-11-01T00:00:00",
          "2023-11-03T00:00:00",
          "2023-11-06T00:00:00",
          "2023-11-07T00:00:00",
          "2023-11-08T00:00:00",
          "2023-11-09T00:00:00",
          "2023-11-10T00:00:00",
          "2023-11-13T00:00:00",
          "2023-11-14T00:00:00",
          "2023-11-16T00:00:00",
          "2023-11-17T00:00:00",
          "2023-11-20T00:00:00",
          "2023-11-21T00:00:00",
          "2023-11-22T00:00:00",
          "2023-11-23T00:00:00",
          "2023-11-24T00:00:00",
          "2023-11-27T00:00:00",
          "2023-11-28T00:00:00",
          "2023-11-29T00:00:00",
          "2023-11-30T00:00:00",
          "2023-12-01T00:00:00",
          "2023-12-04T00:00:00",
          "2023-12-05T00:00:00",
          "2023-12-06T00:00:00",
          "2023-12-07T00:00:00",
          "2023-12-08T00:00:00",
          "2023-12-11T00:00:00",
          "2023-12-12T00:00:00",
          "2023-12-13T00:00:00",
          "2023-12-14T00:00:00",
          "2023-12-15T00:00:00",
          "2023-12-18T00:00:00",
          "2023-12-19T00:00:00",
          "2023-12-20T00:00:00",
          "2023-12-21T00:00:00",
          "2023-12-22T00:00:00",
          "2023-12-26T00:00:00",
          "2023-12-27T00:00:00",
          "2023-12-28T00:00:00",
          "2024-01-02T00:00:00",
          "2024-01-03T00:00:00",
          "2024-01-04T00:00:00",
          "2024-01-05T00:00:00",
          "2024-01-08T00:00:00",
          "2024-01-09T00:00:00",
          "2024-01-10T00:00:00",
          "2024-01-11T00:00:00",
          "2024-01-12T00:00:00",
          "2024-01-15T00:00:00",
          "2024-01-16T00:00:00",
          "2024-01-17T00:00:00",
          "2024-01-18T00:00:00",
          "2024-01-19T00:00:00",
          "2024-01-22T00:00:00",
          "2024-01-23T00:00:00",
          "2024-01-24T00:00:00",
          "2024-01-25T00:00:00",
          "2024-01-26T00:00:00",
          "2024-01-29T00:00:00",
          "2024-01-30T00:00:00",
          "2024-01-31T00:00:00",
          "2024-02-01T00:00:00",
          "2024-02-02T00:00:00",
          "2024-02-05T00:00:00",
          "2024-02-06T00:00:00",
          "2024-02-07T00:00:00",
          "2024-02-08T00:00:00"
         ],
         "y": [
          97,
          98,
          97.29000091552734,
          97.5,
          97.69999694824219,
          97,
          97.83000183105469,
          98.02999877929688,
          98.01000213623047,
          98,
          98.70999908447266,
          99,
          98.31999969482422,
          97.88999938964844,
          99.69999694824219,
          100.3499984741211,
          100.5,
          98.9000015258789,
          98.62000274658203,
          99.2699966430664,
          99.19999694824219,
          99.5,
          99.12999725341797,
          98.30999755859375,
          97.5999984741211,
          96.3499984741211,
          96.1500015258789,
          95.9800033569336,
          95.97000122070312,
          96.44999694824219,
          95.80000305175781,
          95.4000015258789,
          95.5,
          94.73999786376953,
          95.48999786376953,
          98.43000030517578,
          96.87000274658203,
          97.5,
          99.2300033569336,
          98.70999908447266,
          99.05999755859375,
          99.08999633789062,
          99.08999633789062,
          98.8499984741211,
          100.16000366210938,
          99.51000213623047,
          99.66000366210938,
          99.62000274658203,
          99.55000305175781,
          99.98999786376953,
          100,
          103.37999725341797,
          103.1500015258789,
          103.8499984741211,
          102.25,
          101.56999969482422,
          102,
          101.95999908447266,
          101.6500015258789,
          101.80999755859375,
          101.80000305175781,
          103.7300033569336,
          103.5,
          102.95999908447266,
          103.2699966430664,
          103,
          102.30000305175781,
          102.43518829345703,
          100.67990112304688,
          99.63270568847656,
          101.50767517089844,
          101.5999984741211,
          101.55999755859375,
          100.93000030517578,
          101.37000274658203,
          102,
          102.30000305175781,
          101.69999694824219,
          101.5999984741211,
          101.47000122070312,
          101.91000366210938,
          101.98999786376953,
          101.8499984741211,
          102,
          102.5,
          104.25,
          103.69999694824219,
          103.9000015258789,
          104.19000244140625,
          104.19999694824219,
          104,
          104.19999694824219,
          104.41000366210938,
          104.29541015625,
          104.59424591064453,
          105.08235168457031,
          104.99270629882812,
          104.59424591064453,
          104.4747085571289,
          104.24559783935547,
          104.19999694824219,
          104.4800033569336,
          104.48999786376953,
          104,
          104.0999984741211,
          104.19999694824219,
          104.08999633789062,
          104.19999694824219,
          103.5999984741211,
          103.73999786376953,
          104.0999984741211,
          104.19999694824219,
          104.18000030517578,
          104.38999938964844,
          103.95999908447266,
          103.9000015258789,
          105.9800033569336,
          107.5,
          108.5199966430664,
          108.48999786376953,
          108.88999938964844,
          108.9000015258789,
          108.97000122070312,
          109.80000305175781,
          109.55999755859375,
          109.88999938964844,
          110,
          109.97000122070312,
          109.9000015258789,
          108.69999694824219,
          108.54000091552734,
          108.3499984741211,
          108.19999694824219,
          107.94000244140625,
          108.36000061035156,
          108.5,
          108.44999694824219,
          109.13999938964844,
          110.27999877929688,
          110.5,
          111.83000183105469,
          112.26000213623047,
          113.08999633789062,
          114,
          114.66000366210938,
          114.19999694824219,
          113,
          111.58999633789062,
          112.4800033569336,
          110.30999755859375,
          112.80000305175781,
          111.88999938964844,
          110.80000305175781,
          110,
          110.9800033569336,
          110.80000305175781,
          110,
          110.31999969482422,
          109.73999786376953,
          110.73999786376953,
          111.19999694824219,
          111.9000015258789,
          111.52999877929688,
          111.45999908447266,
          111.08999633789062,
          110.51000213623047,
          110.7300033569336,
          110.80000305175781,
          111.44000244140625,
          112.91000366210938,
          112.27999877929688,
          111.7699966430664,
          111.05999755859375,
          111.30999755859375,
          111.05000305175781,
          110,
          109.66000366210938,
          108.30999755859375,
          108.4000015258789,
          108.68000030517578,
          109.0999984741211,
          109.73999786376953,
          110.69999694824219,
          112,
          112.19999694824219,
          111.97000122070312,
          112.83999633789062,
          112.80999755859375,
          113.02999877929688,
          113.55999755859375,
          113.5,
          113.5,
          111.86000061035156,
          112.30000305175781,
          111.27999877929688,
          111.7300033569336,
          111,
          110.55000305175781,
          110.56999969482422,
          110,
          111.04000091552734,
          113.58000183105469,
          112.69999694824219,
          112.4800033569336,
          112.3499984741211,
          111.31999969482422,
          111.63999938964844,
          111.5199966430664,
          111.16000366210938,
          112,
          113.12999725341797,
          112.25,
          112.11000061035156,
          111.80999755859375,
          113.16000366210938,
          115.19999694824219,
          117.8499984741211,
          120.66000366210938,
          117.80000305175781,
          117.12000274658203,
          116.9852523803711,
          116.586669921875,
          114.49408721923828,
          114.48412322998047,
          114.7033462524414,
          115.4000015258789,
          115.88999938964844,
          115.30000305175781,
          115.5,
          115.29000091552734,
          115.19000244140625,
          115.66000366210938,
          115.98999786376953,
          114.9000015258789,
          114.80999755859375,
          115,
          114.81999969482422,
          114.69999694824219,
          114.79000091552734,
          114.69999694824219,
          114.80000305175781,
          116.97000122070312,
          117,
          118.37999725341797,
          117.58000183105469,
          117.87000274658203,
          117.37999725341797,
          117.87999725341797
         ]
        },
        {
         "marker": {
          "color": "red"
         },
         "mode": "markers",
         "name": "Preço Atual",
         "type": "scatter",
         "x": [
          "2024-02-08T00:00:00"
         ],
         "y": [
          117.87999725341797
         ]
        }
       ],
       "layout": {
        "template": {
         "data": {
          "candlestick": [
           {
            "decreasing": {
             "line": {
              "color": "#000033"
             }
            },
            "increasing": {
             "line": {
              "color": "#000032"
             }
            },
            "type": "candlestick"
           }
          ],
          "contour": [
           {
            "colorscale": [
             [
              0,
              "#000011"
             ],
             [
              0.1111111111111111,
              "#000012"
             ],
             [
              0.2222222222222222,
              "#000013"
             ],
             [
              0.3333333333333333,
              "#000014"
             ],
             [
              0.4444444444444444,
              "#000015"
             ],
             [
              0.5555555555555556,
              "#000016"
             ],
             [
              0.6666666666666666,
              "#000017"
             ],
             [
              0.7777777777777778,
              "#000018"
             ],
             [
              0.8888888888888888,
              "#000019"
             ],
             [
              1,
              "#000020"
             ]
            ],
            "type": "contour"
           }
          ],
          "contourcarpet": [
           {
            "colorscale": [
             [
              0,
              "#000011"
             ],
             [
              0.1111111111111111,
              "#000012"
             ],
             [
              0.2222222222222222,
              "#000013"
             ],
             [
              0.3333333333333333,
              "#000014"
             ],
             [
              0.4444444444444444,
              "#000015"
             ],
             [
              0.5555555555555556,
              "#000016"
             ],
             [
              0.6666666666666666,
              "#000017"
             ],
             [
              0.7777777777777778,
              "#000018"
             ],
             [
              0.8888888888888888,
              "#000019"
             ],
             [
              1,
              "#000020"
             ]
            ],
            "type": "contourcarpet"
           }
          ],
          "heatmap": [
           {
            "colorscale": [
             [
              0,
              "#000011"
             ],
             [
              0.1111111111111111,
              "#000012"
             ],
             [
              0.2222222222222222,
              "#000013"
             ],
             [
              0.3333333333333333,
              "#000014"
             ],
             [
              0.4444444444444444,
              "#000015"
             ],
             [
              0.5555555555555556,
              "#000016"
             ],
             [
              0.6666666666666666,
              "#000017"
             ],
             [
              0.7777777777777778,
              "#000018"
             ],
             [
              0.8888888888888888,
              "#000019"
             ],
             [
              1,
              "#000020"
             ]
            ],
            "type": "heatmap"
           }
          ],
          "histogram2d": [
           {
            "colorscale": [
             [
              0,
              "#000011"
             ],
             [
              0.1111111111111111,
              "#000012"
             ],
             [
              0.2222222222222222,
              "#000013"
             ],
             [
              0.3333333333333333,
              "#000014"
             ],
             [
              0.4444444444444444,
              "#000015"
             ],
             [
              0.5555555555555556,
              "#000016"
             ],
             [
              0.6666666666666666,
              "#000017"
             ],
             [
              0.7777777777777778,
              "#000018"
             ],
             [
              0.8888888888888888,
              "#000019"
             ],
             [
              1,
              "#000020"
             ]
            ],
            "type": "histogram2d"
           }
          ],
          "icicle": [
           {
            "textfont": {
             "color": "white"
            },
            "type": "icicle"
           }
          ],
          "sankey": [
           {
            "textfont": {
             "color": "#000036"
            },
            "type": "sankey"
           }
          ],
          "scatter": [
           {
            "marker": {
             "line": {
              "width": 0
             }
            },
            "type": "scatter"
           }
          ],
          "table": [
           {
            "cells": {
             "fill": {
              "color": "#000038"
             },
             "font": {
              "color": "#000037"
             },
             "line": {
              "color": "#000039"
             }
            },
            "header": {
             "fill": {
              "color": "#000040"
             },
             "font": {
              "color": "#000036"
             },
             "line": {
              "color": "#000039"
             }
            },
            "type": "table"
           }
          ],
          "waterfall": [
           {
            "connector": {
             "line": {
              "color": "#000036",
              "width": 2
             }
            },
            "decreasing": {
             "marker": {
              "color": "#000033"
             }
            },
            "increasing": {
             "marker": {
              "color": "#000032"
             }
            },
            "totals": {
             "marker": {
              "color": "#000034"
             }
            },
            "type": "waterfall"
           }
          ]
         },
         "layout": {
          "coloraxis": {
           "colorscale": [
            [
             0,
             "#000011"
            ],
            [
             0.1111111111111111,
             "#000012"
            ],
            [
             0.2222222222222222,
             "#000013"
            ],
            [
             0.3333333333333333,
             "#000014"
            ],
            [
             0.4444444444444444,
             "#000015"
            ],
            [
             0.5555555555555556,
             "#000016"
            ],
            [
             0.6666666666666666,
             "#000017"
            ],
            [
             0.7777777777777778,
             "#000018"
            ],
            [
             0.8888888888888888,
             "#000019"
            ],
            [
             1,
             "#000020"
            ]
           ]
          },
          "colorscale": {
           "diverging": [
            [
             0,
             "#000021"
            ],
            [
             0.1,
             "#000022"
            ],
            [
             0.2,
             "#000023"
            ],
            [
             0.3,
             "#000024"
            ],
            [
             0.4,
             "#000025"
            ],
            [
             0.5,
             "#000026"
            ],
            [
             0.6,
             "#000027"
            ],
            [
             0.7,
             "#000028"
            ],
            [
             0.8,
             "#000029"
            ],
            [
             0.9,
             "#000030"
            ],
            [
             1,
             "#000031"
            ]
           ],
           "sequential": [
            [
             0,
             "#000011"
            ],
            [
             0.1111111111111111,
             "#000012"
            ],
            [
             0.2222222222222222,
             "#000013"
            ],
            [
             0.3333333333333333,
             "#000014"
            ],
            [
             0.4444444444444444,
             "#000015"
            ],
            [
             0.5555555555555556,
             "#000016"
            ],
            [
             0.6666666666666666,
             "#000017"
            ],
            [
             0.7777777777777778,
             "#000018"
            ],
            [
             0.8888888888888888,
             "#000019"
            ],
            [
             1,
             "#000020"
            ]
           ],
           "sequentialminus": [
            [
             0,
             "#000011"
            ],
            [
             0.1111111111111111,
             "#000012"
            ],
            [
             0.2222222222222222,
             "#000013"
            ],
            [
             0.3333333333333333,
             "#000014"
            ],
            [
             0.4444444444444444,
             "#000015"
            ],
            [
             0.5555555555555556,
             "#000016"
            ],
            [
             0.6666666666666666,
             "#000017"
            ],
            [
             0.7777777777777778,
             "#000018"
            ],
            [
             0.8888888888888888,
             "#000019"
            ],
            [
             1,
             "#000020"
            ]
           ]
          },
          "colorway": [
           "#000001",
           "#000002",
           "#000003",
           "#000004",
           "#000005",
           "#000006",
           "#000007",
           "#000008",
           "#000009",
           "#000010"
          ]
         }
        },
        "title": {
         "text": "Preço atual e dia correspondente"
        },
        "xaxis": {
         "title": {
          "text": "Data"
         }
        },
        "yaxis": {
         "title": {
          "text": "Preço (R$)"
         }
        }
       }
      }
     },
     "metadata": {},
     "output_type": "display_data"
    }
   ],
   "source": [
    "grafico_preco('XPML11')"
   ]
  },
  {
   "cell_type": "code",
   "execution_count": 14,
   "metadata": {},
   "outputs": [],
   "source": [
    "class FII:\n",
    "\n",
    "    def __init__(self, fii_codigo, ano, mes):\n",
    "        self.fii_codigo = fii_codigo\n",
    "        self.ano = ano\n",
    "        self.mes = mes\n",
    "\n",
    "    def ultimo_dia(self, ano, mes):\n",
    "        return calendar.monthrange(ano, mes)[1]\n",
    "\n",
    "    def noticias(self):\n",
    "        ultimo_dia = self.ultimo_dia(self.ano, self.mes)\n",
    "        return f\"https://sistemasweb.b3.com.br/PlantaoNoticias/Noticias/ListarTitulosNoticias?agencia=18&palavra={self.fii_codigo[:4]}&dataInicial={self.ano}-{self.mes}-01&dataFinal={self.ano}-{self.mes}-{ultimo_dia}\"\n",
    "\n",
    "    def json(self):\n",
    "        response = requests.get(self.noticias())\n",
    "        return response.json()\n",
    "    \n",
    "    def json_item(self, texto):\n",
    "        json_item = []\n",
    "        json_relatorios = self.json()\n",
    "        for item in json_relatorios:\n",
    "            headline = item['NwsMsg']['headline']\n",
    "            if texto in headline:\n",
    "                json_item .append(item)\n",
    "        return json_item[0]\n",
    "    \n",
    "    def url_noticia(self, texto):\n",
    "        json_item = self.json_item(texto)\n",
    "        item_IdNoticia = json_item['NwsMsg']['id']\n",
    "        item_IdAgencia = json_item['NwsMsg']['IdAgencia']\n",
    "        item_dateTime = json_item['NwsMsg']['dateTime'].replace(' ', '%20')\n",
    "        url = f'https://sistemasweb.b3.com.br/PlantaoNoticias/Noticias/Detail?idNoticia={item_IdNoticia}&agencia={item_IdAgencia}&dataNoticia={item_dateTime}'\n",
    "        pattern = r'dataNoticia=(.*?)%20'\n",
    "        matches = re.findall(pattern, url)\n",
    "        return url, matches\n",
    "\n",
    "    def url_documento(self, texto):\n",
    "        url = self.url_noticia(texto)\n",
    "        response = requests.get(url)\n",
    "        html_content = response.text\n",
    "        soup = BeautifulSoup(html_content, 'html.parser')\n",
    "        pre_element = soup.find('pre', id='conteudoDetalhe')\n",
    "        pre_text = pre_element.get_text()\n",
    "        padrao = r'(https?://[^&]+)'\n",
    "        resultado = re.search(padrao, pre_text)\n",
    "        url = resultado.group(1).replace('visualizarDocumento', 'exibirDocumento').split('&')[0]\n",
    "        return url\n",
    "    \n",
    "    def soup(self, texto):\n",
    "        url = self.url_documento(texto)\n",
    "        response = requests.get(url)\n",
    "        soup = BeautifulSoup(response.text, \"html.parser\")\n",
    "        return soup\n",
    "    \n",
    "    def soup_webdriver(self, texto):\n",
    "        url = self.url_documento(texto)\n",
    "        driver = webdriver.Chrome()\n",
    "        driver.get(url)\n",
    "        driver.implicitly_wait(5)\n",
    "        html = driver.page_source\n",
    "        driver.quit()\n",
    "        return BeautifulSoup(html, 'html.parser')\n",
    "    \n",
    "    def html(self, texto, elementos):\n",
    "        html = self.soup_webdriver(texto).find_all(elementos)\n",
    "        return html\n",
    "    \n",
    "    def tabelas(self, texto, elementos):\n",
    "        tabelas = self.html(texto, elementos)\n",
    "        return tabelas\n",
    "    \n",
    "    def indice(self, tabela, expressao):\n",
    "        indice = None\n",
    "        for i, linha in enumerate(tabela):\n",
    "            if expressao in linha:\n",
    "                indice = i\n",
    "                break\n",
    "        return indice\n",
    "    \n",
    "    def str_para_float(self, valor):\n",
    "        return float(valor.replace(\".\", \"\").replace(\",\", \".\"))\n",
    "    \n",
    "    def str_para_int(self, valor):\n",
    "        return int(float(valor.replace(\".\", \"\").replace(\",\", \".\")))\n",
    "    \n",
    "    def tabela(self, i, tabelas_fii):\n",
    "            tabela = tabelas_fii[i].find_all('td')\n",
    "            info = [item.text for item in tabela]\n",
    "            info = [info.strip() for info in info]\n",
    "            return info\n",
    "    \n",
    "    def fii_informe(self):\n",
    "        texto = 'Informe Mensal'\n",
    "        elementos = 'table'\n",
    "        tabelas_fii = self.tabelas(texto, elementos)\n",
    "        \n",
    "        df_dados_fundos = self.tabela(0, tabelas_fii)\n",
    "        df_cotistas = self.tabela(1, tabelas_fii)\n",
    "        df_ativos = self.tabela(2, tabelas_fii)\n",
    "        df_ativos2 = self.tabela(3, tabelas_fii)\n",
    "        df_passivos = self.tabela(4, tabelas_fii)\n",
    "\n",
    "        pattern = r'Mandato:\\s*</b>(.*?)</span><span class=\"dado-cabecalho\"><b>Segmento de Atuação:\\s*</b>(.*?)</span><span class=\"dado-cabecalho\"><b>Tipo de Gestão:\\s*</b>(.*?)</span></td>'\n",
    "        match = re.search(pattern, str(tabelas_fii[0]))\n",
    "\n",
    "        df_fii = pd.DataFrame({\n",
    "            'codigo_isin': [df_dados_fundos[self.indice(df_dados_fundos, 'Código ISIN')+1]],\n",
    "            'cotistas': [self.str_para_int(df_cotistas[self.indice(df_cotistas, 'Número de cotista')+1])],\n",
    "            'patrimonio_liquido': [self.str_para_float(df_ativos[self.indice(df_ativos, 'Patrimônio Líquido')+1])],\n",
    "            'cotas_emitidas': [self.str_para_int(df_ativos[self.indice(df_ativos, 'Número de Cotas Emitidas')+1])],\n",
    "            'valor_patrimonial_cota': [self.str_para_float(df_ativos[self.indice(df_ativos, 'Valor Patrimonial das Cotas')+1])],\n",
    "            'valor_em_caixa': [self.str_para_float(df_ativos2[self.indice(df_ativos2, 'Total mantido para as Necessidades de Liquidez')+1])],\n",
    "            'patrimonio_liquido': [self.str_para_float(df_ativos[self.indice(df_ativos, 'Patrimônio Líquido')+1])],\n",
    "            'total_investido': [self.str_para_float(df_ativos2[self.indice(df_ativos2, 'Total investido')+1])],\n",
    "            'passivo': [self.str_para_float(df_passivos[self.indice(df_passivos, 'Total do passivo')+1])],\n",
    "            'mandato': [match.group(1).strip()],\n",
    "            'seguimento': [match.group(2).strip()],\n",
    "            'tipo_gestão': [match.group(3).strip()],\n",
    "            'competencia': [df_dados_fundos[self.indice(df_dados_fundos, 'Competência')+1]],\n",
    "        })        \n",
    "        return df_fii\n",
    "    \n",
    "    def fii_rendimento(self):\n",
    "        texto = 'Aviso aos Cotistas'\n",
    "        elementos = 'table'\n",
    "        tabelas_fii = self.tabelas(texto, elementos)\n",
    "\n",
    "        df_dados_fundos = self.tabela(0, tabelas_fii)\n",
    "        proventos = self.tabela(1, tabelas_fii)\n",
    "\n",
    "        df_fii = pd.DataFrame({\n",
    "            'codigo_isin': [proventos[self.indice(proventos, 'Código ISIN')+1]],\n",
    "            'codigo_negociacao': [proventos[self.indice(proventos, 'Código de negociação')+1]],\n",
    "            'proventos': [self.str_para_float(proventos[self.indice(proventos, 'Valor do provento')+1])],\n",
    "            'data_base': [proventos[self.indice(proventos, 'Data-base')+1]],\n",
    "            'data_pagamento': [proventos[self.indice(proventos, 'Data do pagamento')+1]],\n",
    "            'periodo': [proventos[self.indice(proventos, 'Período de referência')+1]],\n",
    "        })\n",
    "\n",
    "        return df_fii\n",
    "    \n",
    "    def fii_relatorios(self):\n",
    "        relatorios = self.json()\n",
    "        df = pd.json_normalize(relatorios)\n",
    "        df['dia_hora'] = df['NwsMsg.dateTime']\n",
    "        df['NwsMsg.dateTime'] = df['NwsMsg.dateTime'].str.replace(' ', '%20')\n",
    "        df['link'] = 'https://sistemasweb.b3.com.br/PlantaoNoticias/Noticias/Detail?idNoticia=' + df['NwsMsg.id'].astype(str) + '&agencia=' + df['NwsMsg.IdAgencia'].astype(str) + '&dataNoticia=' + df['NwsMsg.dateTime'].astype(str)\n",
    "        \n",
    "        for index, row in df.iterrows():\n",
    "            url = row['link']\n",
    "            response = requests.get(url)\n",
    "            html_content = response.text\n",
    "            soup = BeautifulSoup(html_content, 'html.parser')\n",
    "            pre_element = soup.find('pre', id='conteudoDetalhe')\n",
    "            pre_text = pre_element.get_text() if pre_element else ''\n",
    "            padrao = r'(https?://[^&]+)'\n",
    "            resultado = re.search(padrao, pre_text)\n",
    "            if resultado:\n",
    "                url_atualizada = resultado.group(1).replace('visualizarDocumento', 'exibirDocumento').split('&')[0]\n",
    "                df.at[index, 'link'] = url_atualizada\n",
    "\n",
    "        df.columns = ['IdAgencia', 'content', 'dateTime', 'headline', 'id', 'dia_hora', 'link']\n",
    "        \n",
    "        return df"
   ]
  },
  {
   "cell_type": "code",
   "execution_count": 18,
   "metadata": {},
   "outputs": [
    {
     "data": {
      "text/plain": [
       "'2024-01-16'"
      ]
     },
     "execution_count": 18,
     "metadata": {},
     "output_type": "execute_result"
    }
   ],
   "source": [
    "import re\n",
    "from datetime import datetime\n",
    "\n",
    "fii_codigo = 'MXRF11'\n",
    "\n",
    "ano = 2024\n",
    "mes = 1\n",
    "texto = 'Informe Mensal'\n",
    "self = FII(fii_codigo, ano, mes)\n",
    "\n",
    "self.url_noticia(texto)[1][0]"
   ]
  },
  {
   "cell_type": "code",
   "execution_count": 5,
   "metadata": {},
   "outputs": [
    {
     "data": {
      "text/html": [
       "<div>\n",
       "<style scoped>\n",
       "    .dataframe tbody tr th:only-of-type {\n",
       "        vertical-align: middle;\n",
       "    }\n",
       "\n",
       "    .dataframe tbody tr th {\n",
       "        vertical-align: top;\n",
       "    }\n",
       "\n",
       "    .dataframe thead th {\n",
       "        text-align: right;\n",
       "    }\n",
       "</style>\n",
       "<table border=\"1\" class=\"dataframe\">\n",
       "  <thead>\n",
       "    <tr style=\"text-align: right;\">\n",
       "      <th></th>\n",
       "      <th>codigo_isin</th>\n",
       "      <th>cotistas</th>\n",
       "      <th>patrimonio_liquido</th>\n",
       "      <th>cotas_emitidas</th>\n",
       "      <th>valor_patrimonial_cota</th>\n",
       "      <th>valor_em_caixa</th>\n",
       "      <th>total_investido</th>\n",
       "      <th>passivo</th>\n",
       "      <th>mandato</th>\n",
       "      <th>seguimento</th>\n",
       "      <th>tipo_gestão</th>\n",
       "      <th>competencia</th>\n",
       "    </tr>\n",
       "  </thead>\n",
       "  <tbody>\n",
       "    <tr>\n",
       "      <th>0</th>\n",
       "      <td>BRMXRFCTF008</td>\n",
       "      <td>1022791</td>\n",
       "      <td>2.851649e+09</td>\n",
       "      <td>287291278</td>\n",
       "      <td>9.925986</td>\n",
       "      <td>1.430485e+08</td>\n",
       "      <td>2.716371e+09</td>\n",
       "      <td>31106441.97</td>\n",
       "      <td>Híbrido</td>\n",
       "      <td>Híbrido</td>\n",
       "      <td>Ativa</td>\n",
       "      <td>12/2023</td>\n",
       "    </tr>\n",
       "  </tbody>\n",
       "</table>\n",
       "</div>"
      ],
      "text/plain": [
       "    codigo_isin  cotistas  patrimonio_liquido  cotas_emitidas  \\\n",
       "0  BRMXRFCTF008   1022791        2.851649e+09       287291278   \n",
       "\n",
       "   valor_patrimonial_cota  valor_em_caixa  total_investido      passivo  \\\n",
       "0                9.925986    1.430485e+08     2.716371e+09  31106441.97   \n",
       "\n",
       "   mandato seguimento tipo_gestão competencia  \n",
       "0  Híbrido    Híbrido       Ativa     12/2023  "
      ]
     },
     "execution_count": 5,
     "metadata": {},
     "output_type": "execute_result"
    }
   ],
   "source": [
    "fii_codigo = 'MXRF11'\n",
    "\n",
    "ano = 2024\n",
    "mes = 1\n",
    "\n",
    "self = FII(fii_codigo, ano, mes)\n",
    "\n",
    "texto = 'Informe Mensal'\n",
    "elementos = 'table'\n",
    "tabelas_fii = self.tabelas(texto, elementos)\n",
    "\n",
    "df_dados_fundos = self.tabela(0, tabelas_fii)\n",
    "df_cotistas = self.tabela(1, tabelas_fii)\n",
    "df_ativos = self.tabela(2, tabelas_fii)\n",
    "df_ativos2 = self.tabela(3, tabelas_fii)\n",
    "df_passivos = self.tabela(4, tabelas_fii)\n",
    "\n",
    "pattern = r'Mandato:\\s*</b>(.*?)</span><span class=\"dado-cabecalho\"><b>Segmento de Atuação:\\s*</b>(.*?)</span><span class=\"dado-cabecalho\"><b>Tipo de Gestão:\\s*</b>(.*?)</span></td>'\n",
    "match = re.search(pattern, str(tabelas_fii[0]))\n",
    "\n",
    "df_fii = pd.DataFrame({\n",
    "    'codigo_isin': [df_dados_fundos[self.indice(df_dados_fundos, 'Código ISIN')+1]],\n",
    "    'cotistas': [self.str_para_int(df_cotistas[self.indice(df_cotistas, 'Número de cotista')+1])],\n",
    "    'patrimonio_liquido': [self.str_para_float(df_ativos[self.indice(df_ativos, 'Patrimônio Líquido')+1])],\n",
    "    'cotas_emitidas': [self.str_para_int(df_ativos[self.indice(df_ativos, 'Número de Cotas Emitidas')+1])],\n",
    "    'valor_patrimonial_cota': [self.str_para_float(df_ativos[self.indice(df_ativos, 'Valor Patrimonial das Cotas')+1])],\n",
    "    'valor_em_caixa': [self.str_para_float(df_ativos2[self.indice(df_ativos2, 'Total mantido para as Necessidades de Liquidez')+1])],\n",
    "    'patrimonio_liquido': [self.str_para_float(df_ativos[self.indice(df_ativos, 'Patrimônio Líquido')+1])],\n",
    "    'total_investido': [self.str_para_float(df_ativos2[self.indice(df_ativos2, 'Total investido')+1])],\n",
    "    'passivo': [self.str_para_float(df_passivos[self.indice(df_passivos, 'Total do passivo')+1])],\n",
    "    'mandato': [match.group(1).strip()],\n",
    "    'seguimento': [match.group(2).strip()],\n",
    "    'tipo_gestão': [match.group(3).strip()],\n",
    "    'competencia': [df_dados_fundos[self.indice(df_dados_fundos, 'Competência')+1]],\n",
    "})        \n",
    "df_fii\n",
    "\n",
    "\n",
    "\n"
   ]
  },
  {
   "cell_type": "code",
   "execution_count": 19,
   "metadata": {},
   "outputs": [],
   "source": []
  },
  {
   "cell_type": "code",
   "execution_count": 140,
   "metadata": {},
   "outputs": [],
   "source": [
    "fii_codigo = 'XPML11'\n",
    "\n",
    "ano = 2024\n",
    "mes = 1\n",
    "\n",
    "fii = FII(fii_codigo, ano, mes)\n",
    "try:\n",
    "    relatorios = fii.fii_relatorios()\n",
    "    relatorios.to_csv(f'./csv/{fii_codigo}_relatorios_{ano}_{mes}.csv', sep=';', index=False)\n",
    "except:\n",
    "    pass\n",
    "\n",
    "try:\n",
    "    rendimentos = fii.fii_rendimento()\n",
    "    rendimentos.to_csv(f'./csv/{fii_codigo}_rendimentos_{ano}_{mes}.csv', sep=';', index=False)\n",
    "except:\n",
    "    pass\n",
    "\n",
    "try:\n",
    "    informes = fii.fii_informe()\n",
    "    informes.to_csv(f'./csv/{fii_codigo}_informes_{ano}_{mes}.csv', sep=';', index=False)\n",
    "except:\n",
    "    pass"
   ]
  },
  {
   "cell_type": "code",
   "execution_count": 134,
   "metadata": {},
   "outputs": [],
   "source": [
    "fiis = ['HGLG11', 'XPML11', 'SNAG11']\n",
    "\n",
    "anos = [2023, 2022]\n",
    "meses = [12, 11, 10, 9, 8, 7, 6, 5, 4, 3, 2, 1]\n",
    "\n",
    "for fii_codigo in fiis:\n",
    "    for ano in anos:\n",
    "        for mes in meses:\n",
    "            fii = FII(fii_codigo, ano, mes)\n",
    "\n",
    "            try:\n",
    "                relatorios = fii.fii_relatorios()\n",
    "                relatorios.to_csv(f'./csv/{fii_codigo}_relatorios_{ano}_{mes}.csv', sep=';', index=False)\n",
    "            except:\n",
    "                pass\n",
    "\n",
    "            try:\n",
    "                rendimentos = fii.fii_rendimento()\n",
    "                rendimentos.to_csv(f'./csv/{fii_codigo}_rendimentos_{ano}_{mes}.csv', sep=';', index=False)\n",
    "            except:\n",
    "                pass\n",
    "\n",
    "            try:\n",
    "                informes = fii.fii_informe()\n",
    "                informes.to_csv(f'./csv/{fii_codigo}_informes_{ano}_{mes}.csv', sep=';', index=False)\n",
    "            except:\n",
    "                pass"
   ]
  },
  {
   "cell_type": "code",
   "execution_count": 3,
   "metadata": {},
   "outputs": [],
   "source": [
    "#https://fnet.bmfbovespa.com.br/fnet/publico/visualizarDocumento?id=587379\n",
    "#https://fnet.bmfbovespa.com.br/fnet/publico/visualizarDocumento?id=588007"
   ]
  },
  {
   "cell_type": "code",
   "execution_count": 4,
   "metadata": {},
   "outputs": [
    {
     "data": {
      "text/plain": [
       "117.19999694824219"
      ]
     },
     "execution_count": 4,
     "metadata": {},
     "output_type": "execute_result"
    }
   ],
   "source": [
    "import yfinance as yf\n",
    "\n",
    "fii_codigo = 'XPML11'\n",
    "\n",
    "fii = yf.Ticker(fii_codigo+'.SA')\n",
    "\n",
    "preco = fii.history(period=\"1d\")[\"Close\"].iloc[-1]\n",
    "\n",
    "preco\n"
   ]
  },
  {
   "cell_type": "code",
   "execution_count": 22,
   "metadata": {},
   "outputs": [
    {
     "data": {
      "text/plain": [
       "'116.61'"
      ]
     },
     "execution_count": 22,
     "metadata": {},
     "output_type": "execute_result"
    }
   ],
   "source": [
    "from yahoo_fin import stock_info\n",
    "\n",
    "fii_codigo = 'XPML11'\n",
    "def fii_preco(fii_codigo):\n",
    "    ticker = fii_codigo+'.SA'\n",
    "    preco = stock_info.get_live_price(ticker)\n",
    "    return \"{:.2f}\".format(preco)\n",
    "\n",
    "fii_preco(fii_codigo)\n",
    "\n",
    "\n"
   ]
  },
  {
   "cell_type": "code",
   "execution_count": 29,
   "metadata": {},
   "outputs": [
    {
     "name": "stderr",
     "output_type": "stream",
     "text": [
      "[*********************100%%**********************]  1 of 1 completed"
     ]
    },
    {
     "name": "stdout",
     "output_type": "stream",
     "text": [
      "117.67 87.59 119.70\n"
     ]
    },
    {
     "name": "stderr",
     "output_type": "stream",
     "text": [
      "\n"
     ]
    }
   ],
   "source": [
    "def fii_preco(fii_codigo):\n",
    "    ticker = fii_codigo+'.SA'\n",
    "    preco = stock_info.get_live_price(ticker)\n",
    "    atual = \"{:.2f}\".format(preco)\n",
    "\n",
    "    hist = yf.download(ticker, period=\"1y\")[\"Adj Close\"]\n",
    "    menor = \"{:.2f}\".format(hist.min())\n",
    "    maior = \"{:.2f}\".format(hist.max())\n",
    "\n",
    "    return atual, menor, maior\n",
    "\n",
    "\n",
    "a, b, c = fii_preco('XPML11')\n",
    "\n",
    "print(a,b,c)\n",
    "\n",
    "\n",
    "\n"
   ]
  },
  {
   "cell_type": "code",
   "execution_count": 160,
   "metadata": {},
   "outputs": [],
   "source": [
    "def df_csv_informes(fii_codigo):\n",
    "    import glob\n",
    "    import pandas as pd\n",
    "\n",
    "    diretorio = './csv/'\n",
    "    padrao = diretorio + f'/{fii_codigo}_rendimentos_*.csv'\n",
    "    padrao = diretorio + f'/{fii_codigo}_informes_*.csv'\n",
    "    dataframes = []\n",
    "\n",
    "    for arquivo in glob.glob(padrao):\n",
    "        df = pd.read_csv(arquivo, sep=';')\n",
    "        dataframes.append(df)\n",
    "\n",
    "    resultado = pd.concat(dataframes, ignore_index=True)\n",
    "\n",
    "    return resultado"
   ]
  },
  {
   "cell_type": "code",
   "execution_count": 161,
   "metadata": {},
   "outputs": [
    {
     "data": {
      "text/html": [
       "<div>\n",
       "<style scoped>\n",
       "    .dataframe tbody tr th:only-of-type {\n",
       "        vertical-align: middle;\n",
       "    }\n",
       "\n",
       "    .dataframe tbody tr th {\n",
       "        vertical-align: top;\n",
       "    }\n",
       "\n",
       "    .dataframe thead th {\n",
       "        text-align: right;\n",
       "    }\n",
       "</style>\n",
       "<table border=\"1\" class=\"dataframe\">\n",
       "  <thead>\n",
       "    <tr style=\"text-align: right;\">\n",
       "      <th></th>\n",
       "      <th>codigo_isin</th>\n",
       "      <th>cotistas</th>\n",
       "      <th>patrimonio_liquido</th>\n",
       "      <th>cotas_emitidas</th>\n",
       "      <th>valor_patrimonial_cota</th>\n",
       "      <th>valor_em_caixa</th>\n",
       "      <th>total_investido</th>\n",
       "      <th>passivo</th>\n",
       "      <th>mandato</th>\n",
       "      <th>seguimento</th>\n",
       "      <th>tipo_gestão</th>\n",
       "      <th>competencia</th>\n",
       "    </tr>\n",
       "  </thead>\n",
       "  <tbody>\n",
       "    <tr>\n",
       "      <th>0</th>\n",
       "      <td>BRMXRFCTF008</td>\n",
       "      <td>977470</td>\n",
       "      <td>2.574424e+09</td>\n",
       "      <td>259279007</td>\n",
       "      <td>9.929164</td>\n",
       "      <td>6.511452e+07</td>\n",
       "      <td>2.610877e+09</td>\n",
       "      <td>1.251801e+08</td>\n",
       "      <td>Híbrido</td>\n",
       "      <td>Híbrido</td>\n",
       "      <td>Ativa</td>\n",
       "      <td>09/2023</td>\n",
       "    </tr>\n",
       "    <tr>\n",
       "      <th>1</th>\n",
       "      <td>BRMXRFCTF008</td>\n",
       "      <td>988568</td>\n",
       "      <td>2.548277e+09</td>\n",
       "      <td>259279007</td>\n",
       "      <td>9.828320</td>\n",
       "      <td>1.119751e+08</td>\n",
       "      <td>2.503954e+09</td>\n",
       "      <td>9.300089e+07</td>\n",
       "      <td>Híbrido</td>\n",
       "      <td>Híbrido</td>\n",
       "      <td>Ativa</td>\n",
       "      <td>10/2023</td>\n",
       "    </tr>\n",
       "    <tr>\n",
       "      <th>2</th>\n",
       "      <td>BRMXRFCTF008</td>\n",
       "      <td>999290</td>\n",
       "      <td>2.555879e+09</td>\n",
       "      <td>259279007</td>\n",
       "      <td>9.857640</td>\n",
       "      <td>3.771702e+07</td>\n",
       "      <td>2.587478e+09</td>\n",
       "      <td>9.366335e+07</td>\n",
       "      <td>Híbrido</td>\n",
       "      <td>Híbrido</td>\n",
       "      <td>Ativa</td>\n",
       "      <td>11/2023</td>\n",
       "    </tr>\n",
       "    <tr>\n",
       "      <th>3</th>\n",
       "      <td>BRMXRFCTF008</td>\n",
       "      <td>777034</td>\n",
       "      <td>2.286074e+09</td>\n",
       "      <td>226039663</td>\n",
       "      <td>10.113598</td>\n",
       "      <td>6.738742e+07</td>\n",
       "      <td>2.292959e+09</td>\n",
       "      <td>1.086573e+08</td>\n",
       "      <td>Híbrido</td>\n",
       "      <td>Híbrido</td>\n",
       "      <td>Ativa</td>\n",
       "      <td>01/2023</td>\n",
       "    </tr>\n",
       "    <tr>\n",
       "      <th>4</th>\n",
       "      <td>BRMXRFCTF008</td>\n",
       "      <td>792703</td>\n",
       "      <td>2.276988e+09</td>\n",
       "      <td>226039663</td>\n",
       "      <td>10.073399</td>\n",
       "      <td>7.625362e+07</td>\n",
       "      <td>2.279627e+09</td>\n",
       "      <td>1.122729e+08</td>\n",
       "      <td>Híbrido</td>\n",
       "      <td>Híbrido</td>\n",
       "      <td>Ativa</td>\n",
       "      <td>02/2023</td>\n",
       "    </tr>\n",
       "    <tr>\n",
       "      <th>5</th>\n",
       "      <td>BRMXRFCTF008</td>\n",
       "      <td>808458</td>\n",
       "      <td>2.276171e+09</td>\n",
       "      <td>226039663</td>\n",
       "      <td>10.069787</td>\n",
       "      <td>8.513679e+07</td>\n",
       "      <td>2.270320e+09</td>\n",
       "      <td>1.115006e+08</td>\n",
       "      <td>Híbrido</td>\n",
       "      <td>Híbrido</td>\n",
       "      <td>Ativa</td>\n",
       "      <td>03/2023</td>\n",
       "    </tr>\n",
       "    <tr>\n",
       "      <th>6</th>\n",
       "      <td>BRMXRFCTF008</td>\n",
       "      <td>823365</td>\n",
       "      <td>2.284781e+09</td>\n",
       "      <td>226039663</td>\n",
       "      <td>10.107878</td>\n",
       "      <td>2.473227e+07</td>\n",
       "      <td>2.361422e+09</td>\n",
       "      <td>1.326130e+08</td>\n",
       "      <td>Híbrido</td>\n",
       "      <td>Híbrido</td>\n",
       "      <td>Ativa</td>\n",
       "      <td>04/2023</td>\n",
       "    </tr>\n",
       "    <tr>\n",
       "      <th>7</th>\n",
       "      <td>BRMXRFCTF008</td>\n",
       "      <td>843893</td>\n",
       "      <td>2.274794e+09</td>\n",
       "      <td>226039663</td>\n",
       "      <td>10.063694</td>\n",
       "      <td>8.685885e+07</td>\n",
       "      <td>2.292945e+09</td>\n",
       "      <td>1.352848e+08</td>\n",
       "      <td>Híbrido</td>\n",
       "      <td>Híbrido</td>\n",
       "      <td>Ativa</td>\n",
       "      <td>05/2023</td>\n",
       "    </tr>\n",
       "    <tr>\n",
       "      <th>8</th>\n",
       "      <td>BRMXRFCTF008</td>\n",
       "      <td>871906</td>\n",
       "      <td>2.283035e+09</td>\n",
       "      <td>226039663</td>\n",
       "      <td>10.100153</td>\n",
       "      <td>3.611937e+07</td>\n",
       "      <td>2.384966e+09</td>\n",
       "      <td>1.672918e+08</td>\n",
       "      <td>Híbrido</td>\n",
       "      <td>Híbrido</td>\n",
       "      <td>Ativa</td>\n",
       "      <td>06/2023</td>\n",
       "    </tr>\n",
       "    <tr>\n",
       "      <th>9</th>\n",
       "      <td>BRMXRFCTF008</td>\n",
       "      <td>908249</td>\n",
       "      <td>2.592331e+09</td>\n",
       "      <td>259301607</td>\n",
       "      <td>9.997357</td>\n",
       "      <td>1.368637e+08</td>\n",
       "      <td>2.577996e+09</td>\n",
       "      <td>1.728919e+08</td>\n",
       "      <td>Híbrido</td>\n",
       "      <td>Híbrido</td>\n",
       "      <td>Ativa</td>\n",
       "      <td>07/2023</td>\n",
       "    </tr>\n",
       "    <tr>\n",
       "      <th>10</th>\n",
       "      <td>BRMXRFCTF008</td>\n",
       "      <td>953489</td>\n",
       "      <td>2.592808e+09</td>\n",
       "      <td>259279007</td>\n",
       "      <td>10.000071</td>\n",
       "      <td>7.023389e+07</td>\n",
       "      <td>2.664097e+09</td>\n",
       "      <td>1.697236e+08</td>\n",
       "      <td>Híbrido</td>\n",
       "      <td>Híbrido</td>\n",
       "      <td>Ativa</td>\n",
       "      <td>08/2023</td>\n",
       "    </tr>\n",
       "    <tr>\n",
       "      <th>11</th>\n",
       "      <td>BRMXRFCTF008</td>\n",
       "      <td>1022791</td>\n",
       "      <td>2.851649e+09</td>\n",
       "      <td>287291278</td>\n",
       "      <td>9.925986</td>\n",
       "      <td>1.430485e+08</td>\n",
       "      <td>2.716371e+09</td>\n",
       "      <td>3.110644e+07</td>\n",
       "      <td>Híbrido</td>\n",
       "      <td>Híbrido</td>\n",
       "      <td>Ativa</td>\n",
       "      <td>12/2023</td>\n",
       "    </tr>\n",
       "  </tbody>\n",
       "</table>\n",
       "</div>"
      ],
      "text/plain": [
       "     codigo_isin  cotistas  patrimonio_liquido  cotas_emitidas  \\\n",
       "0   BRMXRFCTF008    977470        2.574424e+09       259279007   \n",
       "1   BRMXRFCTF008    988568        2.548277e+09       259279007   \n",
       "2   BRMXRFCTF008    999290        2.555879e+09       259279007   \n",
       "3   BRMXRFCTF008    777034        2.286074e+09       226039663   \n",
       "4   BRMXRFCTF008    792703        2.276988e+09       226039663   \n",
       "5   BRMXRFCTF008    808458        2.276171e+09       226039663   \n",
       "6   BRMXRFCTF008    823365        2.284781e+09       226039663   \n",
       "7   BRMXRFCTF008    843893        2.274794e+09       226039663   \n",
       "8   BRMXRFCTF008    871906        2.283035e+09       226039663   \n",
       "9   BRMXRFCTF008    908249        2.592331e+09       259301607   \n",
       "10  BRMXRFCTF008    953489        2.592808e+09       259279007   \n",
       "11  BRMXRFCTF008   1022791        2.851649e+09       287291278   \n",
       "\n",
       "    valor_patrimonial_cota  valor_em_caixa  total_investido       passivo  \\\n",
       "0                 9.929164    6.511452e+07     2.610877e+09  1.251801e+08   \n",
       "1                 9.828320    1.119751e+08     2.503954e+09  9.300089e+07   \n",
       "2                 9.857640    3.771702e+07     2.587478e+09  9.366335e+07   \n",
       "3                10.113598    6.738742e+07     2.292959e+09  1.086573e+08   \n",
       "4                10.073399    7.625362e+07     2.279627e+09  1.122729e+08   \n",
       "5                10.069787    8.513679e+07     2.270320e+09  1.115006e+08   \n",
       "6                10.107878    2.473227e+07     2.361422e+09  1.326130e+08   \n",
       "7                10.063694    8.685885e+07     2.292945e+09  1.352848e+08   \n",
       "8                10.100153    3.611937e+07     2.384966e+09  1.672918e+08   \n",
       "9                 9.997357    1.368637e+08     2.577996e+09  1.728919e+08   \n",
       "10               10.000071    7.023389e+07     2.664097e+09  1.697236e+08   \n",
       "11                9.925986    1.430485e+08     2.716371e+09  3.110644e+07   \n",
       "\n",
       "    mandato seguimento tipo_gestão competencia  \n",
       "0   Híbrido    Híbrido       Ativa     09/2023  \n",
       "1   Híbrido    Híbrido       Ativa     10/2023  \n",
       "2   Híbrido    Híbrido       Ativa     11/2023  \n",
       "3   Híbrido    Híbrido       Ativa     01/2023  \n",
       "4   Híbrido    Híbrido       Ativa     02/2023  \n",
       "5   Híbrido    Híbrido       Ativa     03/2023  \n",
       "6   Híbrido    Híbrido       Ativa     04/2023  \n",
       "7   Híbrido    Híbrido       Ativa     05/2023  \n",
       "8   Híbrido    Híbrido       Ativa     06/2023  \n",
       "9   Híbrido    Híbrido       Ativa     07/2023  \n",
       "10  Híbrido    Híbrido       Ativa     08/2023  \n",
       "11  Híbrido    Híbrido       Ativa     12/2023  "
      ]
     },
     "execution_count": 161,
     "metadata": {},
     "output_type": "execute_result"
    }
   ],
   "source": [
    "df_csv_informes(fii_codigo)"
   ]
  },
  {
   "cell_type": "code",
   "execution_count": 159,
   "metadata": {},
   "outputs": [
    {
     "data": {
      "text/html": [
       "<div>\n",
       "<style scoped>\n",
       "    .dataframe tbody tr th:only-of-type {\n",
       "        vertical-align: middle;\n",
       "    }\n",
       "\n",
       "    .dataframe tbody tr th {\n",
       "        vertical-align: top;\n",
       "    }\n",
       "\n",
       "    .dataframe thead th {\n",
       "        text-align: right;\n",
       "    }\n",
       "</style>\n",
       "<table border=\"1\" class=\"dataframe\">\n",
       "  <thead>\n",
       "    <tr style=\"text-align: right;\">\n",
       "      <th></th>\n",
       "      <th>codigo_isin</th>\n",
       "      <th>cotistas</th>\n",
       "      <th>patrimonio_liquido</th>\n",
       "      <th>cotas_emitidas</th>\n",
       "      <th>valor_patrimonial_cota</th>\n",
       "      <th>valor_em_caixa</th>\n",
       "      <th>total_investido</th>\n",
       "      <th>passivo</th>\n",
       "      <th>mandato</th>\n",
       "      <th>seguimento</th>\n",
       "      <th>tipo_gestão</th>\n",
       "      <th>competencia</th>\n",
       "    </tr>\n",
       "  </thead>\n",
       "  <tbody>\n",
       "    <tr>\n",
       "      <th>0</th>\n",
       "      <td>BRXPMLCTF000</td>\n",
       "      <td>370163</td>\n",
       "      <td>3.463638e+09</td>\n",
       "      <td>30822213</td>\n",
       "      <td>112.374738</td>\n",
       "      <td>8.173235e+08</td>\n",
       "      <td>3.299733e+09</td>\n",
       "      <td>7.270256e+08</td>\n",
       "      <td>Renda</td>\n",
       "      <td>Shoppings</td>\n",
       "      <td>Ativa</td>\n",
       "      <td>09/2023</td>\n",
       "    </tr>\n",
       "    <tr>\n",
       "      <th>1</th>\n",
       "      <td>BRXPMLCTF000</td>\n",
       "      <td>384432</td>\n",
       "      <td>3.455928e+09</td>\n",
       "      <td>30822213</td>\n",
       "      <td>112.124592</td>\n",
       "      <td>6.828539e+08</td>\n",
       "      <td>3.435761e+09</td>\n",
       "      <td>7.437977e+08</td>\n",
       "      <td>Renda</td>\n",
       "      <td>Shoppings</td>\n",
       "      <td>Ativa</td>\n",
       "      <td>10/2023</td>\n",
       "    </tr>\n",
       "    <tr>\n",
       "      <th>2</th>\n",
       "      <td>BRXPMLCTF000</td>\n",
       "      <td>396609</td>\n",
       "      <td>3.449365e+09</td>\n",
       "      <td>30822213</td>\n",
       "      <td>111.911660</td>\n",
       "      <td>5.803838e+08</td>\n",
       "      <td>3.569726e+09</td>\n",
       "      <td>7.922875e+08</td>\n",
       "      <td>Renda</td>\n",
       "      <td>Shoppings</td>\n",
       "      <td>Ativa</td>\n",
       "      <td>11/2023</td>\n",
       "    </tr>\n",
       "    <tr>\n",
       "      <th>3</th>\n",
       "      <td>BRXPMLCTF000</td>\n",
       "      <td>300598</td>\n",
       "      <td>2.151430e+09</td>\n",
       "      <td>21314099</td>\n",
       "      <td>100.939308</td>\n",
       "      <td>1.744040e+08</td>\n",
       "      <td>2.707205e+09</td>\n",
       "      <td>7.695707e+08</td>\n",
       "      <td>Renda</td>\n",
       "      <td>Shoppings</td>\n",
       "      <td>Ativa</td>\n",
       "      <td>01/2023</td>\n",
       "    </tr>\n",
       "    <tr>\n",
       "      <th>4</th>\n",
       "      <td>BRXPMLCTF000</td>\n",
       "      <td>304996</td>\n",
       "      <td>2.113026e+09</td>\n",
       "      <td>21314099</td>\n",
       "      <td>99.137461</td>\n",
       "      <td>1.176083e+08</td>\n",
       "      <td>2.669795e+09</td>\n",
       "      <td>7.562684e+08</td>\n",
       "      <td>Renda</td>\n",
       "      <td>Shoppings</td>\n",
       "      <td>Ativa</td>\n",
       "      <td>02/2023</td>\n",
       "    </tr>\n",
       "    <tr>\n",
       "      <th>5</th>\n",
       "      <td>BRXPMLCTF000</td>\n",
       "      <td>308245</td>\n",
       "      <td>2.101488e+09</td>\n",
       "      <td>21314099</td>\n",
       "      <td>98.596144</td>\n",
       "      <td>7.161376e+07</td>\n",
       "      <td>2.744380e+09</td>\n",
       "      <td>7.953466e+08</td>\n",
       "      <td>Renda</td>\n",
       "      <td>Shoppings</td>\n",
       "      <td>Ativa</td>\n",
       "      <td>03/2023</td>\n",
       "    </tr>\n",
       "    <tr>\n",
       "      <th>6</th>\n",
       "      <td>BRXPMLCTF000</td>\n",
       "      <td>312556</td>\n",
       "      <td>2.105159e+09</td>\n",
       "      <td>21314099</td>\n",
       "      <td>98.768368</td>\n",
       "      <td>5.732038e+07</td>\n",
       "      <td>2.758725e+09</td>\n",
       "      <td>7.959734e+08</td>\n",
       "      <td>Renda</td>\n",
       "      <td>Shoppings</td>\n",
       "      <td>Ativa</td>\n",
       "      <td>04/2023</td>\n",
       "    </tr>\n",
       "    <tr>\n",
       "      <th>7</th>\n",
       "      <td>BRXPMLCTF000</td>\n",
       "      <td>317438</td>\n",
       "      <td>2.098003e+09</td>\n",
       "      <td>21314099</td>\n",
       "      <td>98.432633</td>\n",
       "      <td>4.637410e+07</td>\n",
       "      <td>2.768434e+09</td>\n",
       "      <td>8.035539e+08</td>\n",
       "      <td>Renda</td>\n",
       "      <td>Shoppings</td>\n",
       "      <td>Ativa</td>\n",
       "      <td>05/2023</td>\n",
       "    </tr>\n",
       "    <tr>\n",
       "      <th>8</th>\n",
       "      <td>BRXPMLCTF000</td>\n",
       "      <td>325070</td>\n",
       "      <td>2.472954e+09</td>\n",
       "      <td>25117345</td>\n",
       "      <td>98.456012</td>\n",
       "      <td>3.528509e+08</td>\n",
       "      <td>2.836517e+09</td>\n",
       "      <td>8.049597e+08</td>\n",
       "      <td>Renda</td>\n",
       "      <td>Shoppings</td>\n",
       "      <td>Ativa</td>\n",
       "      <td>06/2023</td>\n",
       "    </tr>\n",
       "    <tr>\n",
       "      <th>9</th>\n",
       "      <td>BRXPMLCTF000</td>\n",
       "      <td>336875</td>\n",
       "      <td>3.050728e+09</td>\n",
       "      <td>26537865</td>\n",
       "      <td>114.957552</td>\n",
       "      <td>4.001863e+08</td>\n",
       "      <td>3.281935e+09</td>\n",
       "      <td>7.206226e+08</td>\n",
       "      <td>Renda</td>\n",
       "      <td>Shoppings</td>\n",
       "      <td>Ativa</td>\n",
       "      <td>07/2023</td>\n",
       "    </tr>\n",
       "    <tr>\n",
       "      <th>10</th>\n",
       "      <td>BRXPMLCTF000</td>\n",
       "      <td>357599</td>\n",
       "      <td>3.462052e+09</td>\n",
       "      <td>30822213</td>\n",
       "      <td>112.323292</td>\n",
       "      <td>8.346642e+08</td>\n",
       "      <td>3.296771e+09</td>\n",
       "      <td>7.338109e+08</td>\n",
       "      <td>Renda</td>\n",
       "      <td>Shoppings</td>\n",
       "      <td>Ativa</td>\n",
       "      <td>08/2023</td>\n",
       "    </tr>\n",
       "    <tr>\n",
       "      <th>11</th>\n",
       "      <td>BRXPMLCTF000</td>\n",
       "      <td>409164</td>\n",
       "      <td>3.445982e+09</td>\n",
       "      <td>30822213</td>\n",
       "      <td>111.801902</td>\n",
       "      <td>3.791685e+08</td>\n",
       "      <td>3.784056e+09</td>\n",
       "      <td>8.147771e+08</td>\n",
       "      <td>Renda</td>\n",
       "      <td>Shoppings</td>\n",
       "      <td>Ativa</td>\n",
       "      <td>12/2023</td>\n",
       "    </tr>\n",
       "  </tbody>\n",
       "</table>\n",
       "</div>"
      ],
      "text/plain": [
       "     codigo_isin  cotistas  patrimonio_liquido  cotas_emitidas  \\\n",
       "0   BRXPMLCTF000    370163        3.463638e+09        30822213   \n",
       "1   BRXPMLCTF000    384432        3.455928e+09        30822213   \n",
       "2   BRXPMLCTF000    396609        3.449365e+09        30822213   \n",
       "3   BRXPMLCTF000    300598        2.151430e+09        21314099   \n",
       "4   BRXPMLCTF000    304996        2.113026e+09        21314099   \n",
       "5   BRXPMLCTF000    308245        2.101488e+09        21314099   \n",
       "6   BRXPMLCTF000    312556        2.105159e+09        21314099   \n",
       "7   BRXPMLCTF000    317438        2.098003e+09        21314099   \n",
       "8   BRXPMLCTF000    325070        2.472954e+09        25117345   \n",
       "9   BRXPMLCTF000    336875        3.050728e+09        26537865   \n",
       "10  BRXPMLCTF000    357599        3.462052e+09        30822213   \n",
       "11  BRXPMLCTF000    409164        3.445982e+09        30822213   \n",
       "\n",
       "    valor_patrimonial_cota  valor_em_caixa  total_investido       passivo  \\\n",
       "0               112.374738    8.173235e+08     3.299733e+09  7.270256e+08   \n",
       "1               112.124592    6.828539e+08     3.435761e+09  7.437977e+08   \n",
       "2               111.911660    5.803838e+08     3.569726e+09  7.922875e+08   \n",
       "3               100.939308    1.744040e+08     2.707205e+09  7.695707e+08   \n",
       "4                99.137461    1.176083e+08     2.669795e+09  7.562684e+08   \n",
       "5                98.596144    7.161376e+07     2.744380e+09  7.953466e+08   \n",
       "6                98.768368    5.732038e+07     2.758725e+09  7.959734e+08   \n",
       "7                98.432633    4.637410e+07     2.768434e+09  8.035539e+08   \n",
       "8                98.456012    3.528509e+08     2.836517e+09  8.049597e+08   \n",
       "9               114.957552    4.001863e+08     3.281935e+09  7.206226e+08   \n",
       "10              112.323292    8.346642e+08     3.296771e+09  7.338109e+08   \n",
       "11              111.801902    3.791685e+08     3.784056e+09  8.147771e+08   \n",
       "\n",
       "   mandato seguimento tipo_gestão competencia  \n",
       "0    Renda  Shoppings       Ativa     09/2023  \n",
       "1    Renda  Shoppings       Ativa     10/2023  \n",
       "2    Renda  Shoppings       Ativa     11/2023  \n",
       "3    Renda  Shoppings       Ativa     01/2023  \n",
       "4    Renda  Shoppings       Ativa     02/2023  \n",
       "5    Renda  Shoppings       Ativa     03/2023  \n",
       "6    Renda  Shoppings       Ativa     04/2023  \n",
       "7    Renda  Shoppings       Ativa     05/2023  \n",
       "8    Renda  Shoppings       Ativa     06/2023  \n",
       "9    Renda  Shoppings       Ativa     07/2023  \n",
       "10   Renda  Shoppings       Ativa     08/2023  \n",
       "11   Renda  Shoppings       Ativa     12/2023  "
      ]
     },
     "execution_count": 159,
     "metadata": {},
     "output_type": "execute_result"
    }
   ],
   "source": []
  },
  {
   "cell_type": "code",
   "execution_count": 143,
   "metadata": {},
   "outputs": [
    {
     "data": {
      "text/html": [
       "<div>\n",
       "<style scoped>\n",
       "    .dataframe tbody tr th:only-of-type {\n",
       "        vertical-align: middle;\n",
       "    }\n",
       "\n",
       "    .dataframe tbody tr th {\n",
       "        vertical-align: top;\n",
       "    }\n",
       "\n",
       "    .dataframe thead th {\n",
       "        text-align: right;\n",
       "    }\n",
       "</style>\n",
       "<table border=\"1\" class=\"dataframe\">\n",
       "  <thead>\n",
       "    <tr style=\"text-align: right;\">\n",
       "      <th></th>\n",
       "      <th>codigo_isin</th>\n",
       "      <th>codigo_negociacao</th>\n",
       "      <th>proventos</th>\n",
       "      <th>data_base</th>\n",
       "      <th>data_pagamento</th>\n",
       "      <th>periodo</th>\n",
       "    </tr>\n",
       "  </thead>\n",
       "  <tbody>\n",
       "    <tr>\n",
       "      <th>0</th>\n",
       "      <td>BRXPMLCTF000</td>\n",
       "      <td>XPML11</td>\n",
       "      <td>0.85</td>\n",
       "      <td>18/10/2023</td>\n",
       "      <td>25/10/2023</td>\n",
       "      <td>09/2023</td>\n",
       "    </tr>\n",
       "    <tr>\n",
       "      <th>1</th>\n",
       "      <td>BRXPMLCTF000</td>\n",
       "      <td>XPML11</td>\n",
       "      <td>0.85</td>\n",
       "      <td>17/11/2023</td>\n",
       "      <td>24/11/2023</td>\n",
       "      <td>10/2023</td>\n",
       "    </tr>\n",
       "    <tr>\n",
       "      <th>2</th>\n",
       "      <td>BRXPMLCTF000</td>\n",
       "      <td>XPML11</td>\n",
       "      <td>0.90</td>\n",
       "      <td>15/12/2023</td>\n",
       "      <td>22/12/2023</td>\n",
       "      <td>11/2023</td>\n",
       "    </tr>\n",
       "    <tr>\n",
       "      <th>3</th>\n",
       "      <td>BRXPMLCTF000</td>\n",
       "      <td>XPML11</td>\n",
       "      <td>0.77</td>\n",
       "      <td>15/02/2023</td>\n",
       "      <td>24/02/2023</td>\n",
       "      <td>01/2023</td>\n",
       "    </tr>\n",
       "    <tr>\n",
       "      <th>4</th>\n",
       "      <td>BRXPMLCTF000</td>\n",
       "      <td>XPML11</td>\n",
       "      <td>0.78</td>\n",
       "      <td>17/03/2023</td>\n",
       "      <td>24/03/2023</td>\n",
       "      <td>02/2023</td>\n",
       "    </tr>\n",
       "    <tr>\n",
       "      <th>5</th>\n",
       "      <td>BRXPMLCTF000</td>\n",
       "      <td>XPML11</td>\n",
       "      <td>0.81</td>\n",
       "      <td>18/05/2023</td>\n",
       "      <td>25/05/2023</td>\n",
       "      <td>04/2023</td>\n",
       "    </tr>\n",
       "    <tr>\n",
       "      <th>6</th>\n",
       "      <td>BRXPMLCTF000</td>\n",
       "      <td>XPML11</td>\n",
       "      <td>0.81</td>\n",
       "      <td>16/06/2023</td>\n",
       "      <td>23/06/2023</td>\n",
       "      <td>05/2023</td>\n",
       "    </tr>\n",
       "    <tr>\n",
       "      <th>7</th>\n",
       "      <td>BRXPMLCTF000</td>\n",
       "      <td>XPML11</td>\n",
       "      <td>0.83</td>\n",
       "      <td>18/07/2023</td>\n",
       "      <td>25/07/2023</td>\n",
       "      <td>06/2023</td>\n",
       "    </tr>\n",
       "    <tr>\n",
       "      <th>8</th>\n",
       "      <td>BRXPMLCTF000</td>\n",
       "      <td>XPML11</td>\n",
       "      <td>0.84</td>\n",
       "      <td>18/08/2023</td>\n",
       "      <td>25/08/2023</td>\n",
       "      <td>07/2023</td>\n",
       "    </tr>\n",
       "    <tr>\n",
       "      <th>9</th>\n",
       "      <td>BRXPMLCTF000</td>\n",
       "      <td>XPML11</td>\n",
       "      <td>0.85</td>\n",
       "      <td>18/09/2023</td>\n",
       "      <td>25/09/2023</td>\n",
       "      <td>08/2023</td>\n",
       "    </tr>\n",
       "    <tr>\n",
       "      <th>10</th>\n",
       "      <td>BRXPMLCTF000</td>\n",
       "      <td>XPML11</td>\n",
       "      <td>0.92</td>\n",
       "      <td>18/01/2024</td>\n",
       "      <td>25/01/2024</td>\n",
       "      <td>12/2023</td>\n",
       "    </tr>\n",
       "  </tbody>\n",
       "</table>\n",
       "</div>"
      ],
      "text/plain": [
       "     codigo_isin codigo_negociacao  proventos   data_base data_pagamento  \\\n",
       "0   BRXPMLCTF000            XPML11       0.85  18/10/2023     25/10/2023   \n",
       "1   BRXPMLCTF000            XPML11       0.85  17/11/2023     24/11/2023   \n",
       "2   BRXPMLCTF000            XPML11       0.90  15/12/2023     22/12/2023   \n",
       "3   BRXPMLCTF000            XPML11       0.77  15/02/2023     24/02/2023   \n",
       "4   BRXPMLCTF000            XPML11       0.78  17/03/2023     24/03/2023   \n",
       "5   BRXPMLCTF000            XPML11       0.81  18/05/2023     25/05/2023   \n",
       "6   BRXPMLCTF000            XPML11       0.81  16/06/2023     23/06/2023   \n",
       "7   BRXPMLCTF000            XPML11       0.83  18/07/2023     25/07/2023   \n",
       "8   BRXPMLCTF000            XPML11       0.84  18/08/2023     25/08/2023   \n",
       "9   BRXPMLCTF000            XPML11       0.85  18/09/2023     25/09/2023   \n",
       "10  BRXPMLCTF000            XPML11       0.92  18/01/2024     25/01/2024   \n",
       "\n",
       "    periodo  \n",
       "0   09/2023  \n",
       "1   10/2023  \n",
       "2   11/2023  \n",
       "3   01/2023  \n",
       "4   02/2023  \n",
       "5   04/2023  \n",
       "6   05/2023  \n",
       "7   06/2023  \n",
       "8   07/2023  \n",
       "9   08/2023  \n",
       "10  12/2023  "
      ]
     },
     "execution_count": 143,
     "metadata": {},
     "output_type": "execute_result"
    }
   ],
   "source": [
    "import glob\n",
    "import pandas as pd\n",
    "\n",
    "diretorio = './csv/'\n",
    "padrao = diretorio + '/XPML11_rendimentos_*.csv'\n",
    "dataframes = []\n",
    "\n",
    "for arquivo in glob.glob(padrao):\n",
    "    df = pd.read_csv(arquivo, sep=';')\n",
    "    dataframes.append(df)\n",
    "\n",
    "resultado = pd.concat(dataframes, ignore_index=True)\n",
    "\n",
    "resultado"
   ]
  },
  {
   "cell_type": "code",
   "execution_count": null,
   "metadata": {},
   "outputs": [],
   "source": []
  },
  {
   "cell_type": "code",
   "execution_count": null,
   "metadata": {},
   "outputs": [
    {
     "data": {
      "text/html": [
       "<div>\n",
       "<style scoped>\n",
       "    .dataframe tbody tr th:only-of-type {\n",
       "        vertical-align: middle;\n",
       "    }\n",
       "\n",
       "    .dataframe tbody tr th {\n",
       "        vertical-align: top;\n",
       "    }\n",
       "\n",
       "    .dataframe thead th {\n",
       "        text-align: right;\n",
       "    }\n",
       "</style>\n",
       "<table border=\"1\" class=\"dataframe\">\n",
       "  <thead>\n",
       "    <tr style=\"text-align: right;\">\n",
       "      <th></th>\n",
       "      <th>codigo_isin</th>\n",
       "      <th>codigo_negociacao</th>\n",
       "      <th>proventos</th>\n",
       "      <th>data_base</th>\n",
       "      <th>data_pagamento</th>\n",
       "      <th>periodo</th>\n",
       "    </tr>\n",
       "  </thead>\n",
       "  <tbody>\n",
       "    <tr>\n",
       "      <th>0</th>\n",
       "      <td>BRSNAGR07M11</td>\n",
       "      <td>SNAG17</td>\n",
       "      <td>0.105</td>\n",
       "      <td>23/01/2024</td>\n",
       "      <td>25/01/2024</td>\n",
       "      <td>DEZEMBRO</td>\n",
       "    </tr>\n",
       "  </tbody>\n",
       "</table>\n",
       "</div>"
      ],
      "text/plain": [
       "    codigo_isin codigo_negociacao  proventos   data_base data_pagamento  \\\n",
       "0  BRSNAGR07M11            SNAG17      0.105  23/01/2024     25/01/2024   \n",
       "\n",
       "    periodo  \n",
       "0  DEZEMBRO  "
      ]
     },
     "execution_count": 14,
     "metadata": {},
     "output_type": "execute_result"
    }
   ],
   "source": [
    "rendimentos"
   ]
  },
  {
   "cell_type": "code",
   "execution_count": null,
   "metadata": {},
   "outputs": [
    {
     "data": {
      "text/html": [
       "<div>\n",
       "<style scoped>\n",
       "    .dataframe tbody tr th:only-of-type {\n",
       "        vertical-align: middle;\n",
       "    }\n",
       "\n",
       "    .dataframe tbody tr th {\n",
       "        vertical-align: top;\n",
       "    }\n",
       "\n",
       "    .dataframe thead th {\n",
       "        text-align: right;\n",
       "    }\n",
       "</style>\n",
       "<table border=\"1\" class=\"dataframe\">\n",
       "  <thead>\n",
       "    <tr style=\"text-align: right;\">\n",
       "      <th></th>\n",
       "      <th>codigo_isin</th>\n",
       "      <th>cotistas</th>\n",
       "      <th>patrimonio_liquido</th>\n",
       "      <th>cotas_emitidas</th>\n",
       "      <th>valor_patrimonial_cota</th>\n",
       "      <th>valor_em_caixa</th>\n",
       "      <th>total_investido</th>\n",
       "      <th>passivo</th>\n",
       "      <th>mandato</th>\n",
       "      <th>seguimento</th>\n",
       "      <th>tipo_gestão</th>\n",
       "      <th>competencia</th>\n",
       "    </tr>\n",
       "  </thead>\n",
       "  <tbody>\n",
       "    <tr>\n",
       "      <th>0</th>\n",
       "      <td>BRSNAGCTF000</td>\n",
       "      <td>78093</td>\n",
       "      <td>5.028591e+08</td>\n",
       "      <td>50000000</td>\n",
       "      <td>10.057183</td>\n",
       "      <td>28247273.12</td>\n",
       "      <td>4.806811e+08</td>\n",
       "      <td>6452467.62</td>\n",
       "      <td>Híbrido</td>\n",
       "      <td>Híbrido</td>\n",
       "      <td>Ativa</td>\n",
       "      <td>12/2023</td>\n",
       "    </tr>\n",
       "  </tbody>\n",
       "</table>\n",
       "</div>"
      ],
      "text/plain": [
       "    codigo_isin  cotistas  patrimonio_liquido  cotas_emitidas  \\\n",
       "0  BRSNAGCTF000     78093        5.028591e+08        50000000   \n",
       "\n",
       "   valor_patrimonial_cota  valor_em_caixa  total_investido     passivo  \\\n",
       "0               10.057183     28247273.12     4.806811e+08  6452467.62   \n",
       "\n",
       "   mandato seguimento tipo_gestão competencia  \n",
       "0  Híbrido    Híbrido       Ativa     12/2023  "
      ]
     },
     "execution_count": 15,
     "metadata": {},
     "output_type": "execute_result"
    }
   ],
   "source": [
    "informes"
   ]
  },
  {
   "cell_type": "code",
   "execution_count": null,
   "metadata": {},
   "outputs": [
    {
     "data": {
      "text/plain": [
       "'https://fnet.bmfbovespa.com.br/fnet/publico/exibirDocumento?id=588838'"
      ]
     },
     "execution_count": 16,
     "metadata": {},
     "output_type": "execute_result"
    }
   ],
   "source": [
    "relatorios['link'][0]"
   ]
  },
  {
   "cell_type": "code",
   "execution_count": null,
   "metadata": {},
   "outputs": [
    {
     "data": {
      "text/html": [
       "<div>\n",
       "<style scoped>\n",
       "    .dataframe tbody tr th:only-of-type {\n",
       "        vertical-align: middle;\n",
       "    }\n",
       "\n",
       "    .dataframe tbody tr th {\n",
       "        vertical-align: top;\n",
       "    }\n",
       "\n",
       "    .dataframe thead th {\n",
       "        text-align: right;\n",
       "    }\n",
       "</style>\n",
       "<table border=\"1\" class=\"dataframe\">\n",
       "  <thead>\n",
       "    <tr style=\"text-align: right;\">\n",
       "      <th></th>\n",
       "      <th>codigo_isin</th>\n",
       "      <th>codigo_negociacao</th>\n",
       "      <th>proventos</th>\n",
       "      <th>data_base</th>\n",
       "      <th>data_pagamento</th>\n",
       "      <th>periodo</th>\n",
       "    </tr>\n",
       "  </thead>\n",
       "  <tbody>\n",
       "    <tr>\n",
       "      <th>0</th>\n",
       "      <td>BRSNAGR07M11</td>\n",
       "      <td>SNAG17</td>\n",
       "      <td>0.105</td>\n",
       "      <td>23/01/2024</td>\n",
       "      <td>25/01/2024</td>\n",
       "      <td>DEZEMBRO</td>\n",
       "    </tr>\n",
       "  </tbody>\n",
       "</table>\n",
       "</div>"
      ],
      "text/plain": [
       "    codigo_isin codigo_negociacao  proventos   data_base data_pagamento  \\\n",
       "0  BRSNAGR07M11            SNAG17      0.105  23/01/2024     25/01/2024   \n",
       "\n",
       "    periodo  \n",
       "0  DEZEMBRO  "
      ]
     },
     "execution_count": 17,
     "metadata": {},
     "output_type": "execute_result"
    }
   ],
   "source": [
    "rendimentos"
   ]
  },
  {
   "cell_type": "code",
   "execution_count": null,
   "metadata": {},
   "outputs": [
    {
     "data": {
      "text/html": [
       "<div>\n",
       "<style scoped>\n",
       "    .dataframe tbody tr th:only-of-type {\n",
       "        vertical-align: middle;\n",
       "    }\n",
       "\n",
       "    .dataframe tbody tr th {\n",
       "        vertical-align: top;\n",
       "    }\n",
       "\n",
       "    .dataframe thead th {\n",
       "        text-align: right;\n",
       "    }\n",
       "</style>\n",
       "<table border=\"1\" class=\"dataframe\">\n",
       "  <thead>\n",
       "    <tr style=\"text-align: right;\">\n",
       "      <th></th>\n",
       "      <th>NwsMsg.IdAgencia</th>\n",
       "      <th>NwsMsg.content</th>\n",
       "      <th>NwsMsg.dateTime</th>\n",
       "      <th>NwsMsg.headline</th>\n",
       "      <th>NwsMsg.id</th>\n",
       "      <th>link</th>\n",
       "    </tr>\n",
       "  </thead>\n",
       "  <tbody>\n",
       "    <tr>\n",
       "      <th>0</th>\n",
       "      <td>18</td>\n",
       "      <td>None</td>\n",
       "      <td>2024-01-23%2017:38:55</td>\n",
       "      <td>FIAGRO SUNO (SNAG) Aviso aos Cotistas  - 23/01...</td>\n",
       "      <td>2454737</td>\n",
       "      <td>https://fnet.bmfbovespa.com.br/fnet/publico/ex...</td>\n",
       "    </tr>\n",
       "    <tr>\n",
       "      <th>1</th>\n",
       "      <td>18</td>\n",
       "      <td>None</td>\n",
       "      <td>2024-01-16%2016:11:12</td>\n",
       "      <td>FIAGRO SUNO (SNAG) Informe Mensal - 12/2023</td>\n",
       "      <td>2448571</td>\n",
       "      <td>https://fnet.bmfbovespa.com.br/fnet/publico/ex...</td>\n",
       "    </tr>\n",
       "    <tr>\n",
       "      <th>2</th>\n",
       "      <td>18</td>\n",
       "      <td>None</td>\n",
       "      <td>2024-01-15%2013:06:10</td>\n",
       "      <td>FIAGRO SUNO (SNAG) Aviso aos Cotistas  - 15/01...</td>\n",
       "      <td>2446902</td>\n",
       "      <td>https://fnet.bmfbovespa.com.br/fnet/publico/ex...</td>\n",
       "    </tr>\n",
       "    <tr>\n",
       "      <th>3</th>\n",
       "      <td>18</td>\n",
       "      <td>None</td>\n",
       "      <td>2024-01-15%2011:26:38</td>\n",
       "      <td>FIAGRO SUNO (SNAG) Aviso aos Cotistas  - 15/01...</td>\n",
       "      <td>2446753</td>\n",
       "      <td>https://fnet.bmfbovespa.com.br/fnet/publico/ex...</td>\n",
       "    </tr>\n",
       "    <tr>\n",
       "      <th>4</th>\n",
       "      <td>18</td>\n",
       "      <td>None</td>\n",
       "      <td>2024-01-15%2011:11:42</td>\n",
       "      <td>FIAGRO SUNO (SNAG) Aviso aos Cotistas  - 15/01...</td>\n",
       "      <td>2446733</td>\n",
       "      <td>https://fnet.bmfbovespa.com.br/fnet/publico/ex...</td>\n",
       "    </tr>\n",
       "    <tr>\n",
       "      <th>5</th>\n",
       "      <td>18</td>\n",
       "      <td>None</td>\n",
       "      <td>2024-01-15%2009:55:01</td>\n",
       "      <td>FIAGRO SUNO (SNAG) Aviso aos Cotistas  - 15/01...</td>\n",
       "      <td>2446596</td>\n",
       "      <td>https://fnet.bmfbovespa.com.br/fnet/publico/ex...</td>\n",
       "    </tr>\n",
       "  </tbody>\n",
       "</table>\n",
       "</div>"
      ],
      "text/plain": [
       "   NwsMsg.IdAgencia NwsMsg.content        NwsMsg.dateTime  \\\n",
       "0                18           None  2024-01-23%2017:38:55   \n",
       "1                18           None  2024-01-16%2016:11:12   \n",
       "2                18           None  2024-01-15%2013:06:10   \n",
       "3                18           None  2024-01-15%2011:26:38   \n",
       "4                18           None  2024-01-15%2011:11:42   \n",
       "5                18           None  2024-01-15%2009:55:01   \n",
       "\n",
       "                                     NwsMsg.headline  NwsMsg.id  \\\n",
       "0  FIAGRO SUNO (SNAG) Aviso aos Cotistas  - 23/01...    2454737   \n",
       "1        FIAGRO SUNO (SNAG) Informe Mensal - 12/2023    2448571   \n",
       "2  FIAGRO SUNO (SNAG) Aviso aos Cotistas  - 15/01...    2446902   \n",
       "3  FIAGRO SUNO (SNAG) Aviso aos Cotistas  - 15/01...    2446753   \n",
       "4  FIAGRO SUNO (SNAG) Aviso aos Cotistas  - 15/01...    2446733   \n",
       "5  FIAGRO SUNO (SNAG) Aviso aos Cotistas  - 15/01...    2446596   \n",
       "\n",
       "                                                link  \n",
       "0  https://fnet.bmfbovespa.com.br/fnet/publico/ex...  \n",
       "1  https://fnet.bmfbovespa.com.br/fnet/publico/ex...  \n",
       "2  https://fnet.bmfbovespa.com.br/fnet/publico/ex...  \n",
       "3  https://fnet.bmfbovespa.com.br/fnet/publico/ex...  \n",
       "4  https://fnet.bmfbovespa.com.br/fnet/publico/ex...  \n",
       "5  https://fnet.bmfbovespa.com.br/fnet/publico/ex...  "
      ]
     },
     "execution_count": 18,
     "metadata": {},
     "output_type": "execute_result"
    }
   ],
   "source": [
    "fii_codigo = 'SNAG11'\n",
    "fii = FII(fii_codigo, ano, mes)\n",
    "fii.fii_relatorios()"
   ]
  },
  {
   "cell_type": "markdown",
   "metadata": {},
   "source": [
    "# Testes"
   ]
  },
  {
   "cell_type": "code",
   "execution_count": null,
   "metadata": {},
   "outputs": [],
   "source": []
  },
  {
   "cell_type": "code",
   "execution_count": null,
   "metadata": {},
   "outputs": [],
   "source": [
    "texto = 'Informe Mensal'\n",
    "elementos = 'table'\n",
    "tabelas_fii = self.tabelas(texto, elementos)\n",
    "\n",
    "#def tabela(i):\n",
    "#    tabela = tabelas_fii[i].find_all('td')\n",
    "#    info = [item.text for item in tabela]\n",
    "#    info = [info.strip() for info in info]\n",
    "#    return info\n",
    "\n",
    "df_dados_fundos = self.tabela(0, tabelas_fii)\n",
    "df_cotistas = self.tabela(1, tabelas_fii)\n",
    "df_ativos = self.tabela(2, tabelas_fii)\n",
    "df_ativos2 = self.tabela(3, tabelas_fii)\n",
    "df_passivos = self.tabela(4, tabelas_fii)"
   ]
  },
  {
   "cell_type": "code",
   "execution_count": null,
   "metadata": {},
   "outputs": [],
   "source": [
    "\n",
    "relatorios = self.json()\n",
    "df = pd.json_normalize(relatorios)\n",
    "df['NwsMsg.dateTime'] = df['NwsMsg.dateTime'].str.replace(' ', '%20')\n",
    "df['link'] = 'https://sistemasweb.b3.com.br/PlantaoNoticias/Noticias/Detail?idNoticia=' + df['NwsMsg.id'].astype(str) + '&agencia=' + df['NwsMsg.IdAgencia'].astype(str) + '&dataNoticia=' + df['NwsMsg.dateTime'].astype(str)\n",
    "\n",
    "for index, row in df.iterrows():\n",
    "    url = row['link']\n",
    "    response = requests.get(url)\n",
    "    html_content = response.text\n",
    "    soup = BeautifulSoup(html_content, 'html.parser')\n",
    "    pre_element = soup.find('pre', id='conteudoDetalhe')\n",
    "    pre_text = pre_element.get_text() if pre_element else ''\n",
    "    padrao = r'(https?://[^&]+)'\n",
    "    resultado = re.search(padrao, pre_text)\n",
    "    if resultado:\n",
    "        url_atualizada = resultado.group(1).replace('visualizarDocumento', 'exibirDocumento').split('&')[0]\n",
    "        df.at[index, 'link'] = url_atualizada\n",
    "    \n"
   ]
  },
  {
   "cell_type": "code",
   "execution_count": null,
   "metadata": {},
   "outputs": [],
   "source": []
  },
  {
   "cell_type": "code",
   "execution_count": null,
   "metadata": {},
   "outputs": [],
   "source": []
  },
  {
   "cell_type": "code",
   "execution_count": null,
   "metadata": {},
   "outputs": [],
   "source": [
    "\n",
    "        \n"
   ]
  },
  {
   "cell_type": "code",
   "execution_count": null,
   "metadata": {},
   "outputs": [],
   "source": []
  },
  {
   "cell_type": "code",
   "execution_count": null,
   "metadata": {},
   "outputs": [],
   "source": []
  },
  {
   "cell_type": "code",
   "execution_count": null,
   "metadata": {},
   "outputs": [],
   "source": []
  },
  {
   "cell_type": "code",
   "execution_count": null,
   "metadata": {},
   "outputs": [],
   "source": []
  },
  {
   "cell_type": "code",
   "execution_count": null,
   "metadata": {},
   "outputs": [
    {
     "data": {
      "text/plain": [
       "0.92"
      ]
     },
     "execution_count": 197,
     "metadata": {},
     "output_type": "execute_result"
    }
   ],
   "source": []
  },
  {
   "cell_type": "code",
   "execution_count": null,
   "metadata": {},
   "outputs": [],
   "source": []
  },
  {
   "cell_type": "code",
   "execution_count": null,
   "metadata": {},
   "outputs": [],
   "source": [
    "# evolução:\n",
    "## patrimonio liquido\n",
    "## cotação \n"
   ]
  },
  {
   "cell_type": "code",
   "execution_count": null,
   "metadata": {},
   "outputs": [],
   "source": []
  },
  {
   "cell_type": "code",
   "execution_count": null,
   "metadata": {},
   "outputs": [],
   "source": []
  },
  {
   "cell_type": "code",
   "execution_count": null,
   "metadata": {},
   "outputs": [],
   "source": []
  },
  {
   "cell_type": "code",
   "execution_count": null,
   "metadata": {},
   "outputs": [],
   "source": []
  },
  {
   "cell_type": "code",
   "execution_count": null,
   "metadata": {},
   "outputs": [],
   "source": []
  },
  {
   "cell_type": "code",
   "execution_count": null,
   "metadata": {},
   "outputs": [],
   "source": []
  },
  {
   "cell_type": "code",
   "execution_count": null,
   "metadata": {},
   "outputs": [],
   "source": []
  },
  {
   "cell_type": "code",
   "execution_count": null,
   "metadata": {},
   "outputs": [],
   "source": []
  },
  {
   "cell_type": "code",
   "execution_count": null,
   "metadata": {},
   "outputs": [],
   "source": []
  },
  {
   "cell_type": "code",
   "execution_count": null,
   "metadata": {},
   "outputs": [],
   "source": []
  },
  {
   "cell_type": "code",
   "execution_count": null,
   "metadata": {},
   "outputs": [],
   "source": []
  },
  {
   "cell_type": "code",
   "execution_count": null,
   "metadata": {},
   "outputs": [],
   "source": []
  },
  {
   "cell_type": "code",
   "execution_count": null,
   "metadata": {},
   "outputs": [],
   "source": []
  },
  {
   "cell_type": "markdown",
   "metadata": {},
   "source": [
    "# FIM"
   ]
  },
  {
   "cell_type": "code",
   "execution_count": null,
   "metadata": {},
   "outputs": [],
   "source": [
    "class FIIExtractor:\n",
    "    def __init__(self, fii_codigo):\n",
    "        self.fii_codigo = fii_codigo\n",
    "\n",
    "    def xhr_link(self, i):\n",
    "        df_fundos = pd.read_csv('fundos.csv')    \n",
    "        fundo = df_fundos[df_fundos['FII'] == self.fii_codigo[:4]]['URL']\n",
    "        link_relatorios_fundo = fundo.iloc[i]\n",
    "        return link_relatorios_fundo\n",
    "    \n",
    "    def json_api(self, link_requisicao):\n",
    "        response = requests.get(link_requisicao)\n",
    "        return response.json()\n",
    "    \n",
    "    def soup_webdriver(self, link):\n",
    "        driver = webdriver.Chrome()\n",
    "        driver.get(link)\n",
    "        driver.implicitly_wait(5)\n",
    "        html = driver.page_source\n",
    "        driver.quit()\n",
    "        return BeautifulSoup(html, 'html.parser')\n",
    "    \n",
    "    def documento_link(self, texto):\n",
    "        item = [item for item in self.json_api(self.xhr_link(1)) if texto in item['headline']]\n",
    "        url = item[0]['url']\n",
    "        response = requests.get(url)\n",
    "        html = response.text\n",
    "        soup = BeautifulSoup(html, 'html.parser')\n",
    "        informe = soup.find('iframe')\n",
    "        url_informe_mensal_doc = url.split('visualizarDocumento')[0] + informe['src'].split('&')[0]\n",
    "        return url_informe_mensal_doc\n",
    "    \n",
    "    def tabelas(self, tabelas, i):\n",
    "        tabela = tabelas[i].find_all('td')\n",
    "        info = [item.text for item in tabela]\n",
    "        info = [info.strip() for info in info]\n",
    "        return info\n",
    "    \n",
    "    def indice(self, tabela, expressao):\n",
    "        indice = None\n",
    "        for i, linha in enumerate(tabela):\n",
    "            if expressao in linha:\n",
    "                indice = i\n",
    "                break\n",
    "        return indice\n",
    "    \n",
    "    def str_para_float(self, valor):\n",
    "        return float(valor.replace(\".\", \"\").replace(\",\", \".\"))\n",
    "    \n",
    "    def str_para_int(self, valor):\n",
    "        return int(valor.replace(\".\", \"\").replace(\",\", \".\"))\n",
    "    \n",
    "    def info_fii(self):\n",
    "        df_tabelas = self.soup_webdriver(self.documento_link('Informe Mensal')).find_all('table')\n",
    "        cotistas = self.tabelas(df_tabelas, 1)\n",
    "        ativo = self.tabelas(df_tabelas, 2)\n",
    "        ativo2 = self.tabelas(df_tabelas, 3)\n",
    "\n",
    "        df_info_fii = pd.DataFrame({\n",
    "            'cotistas': [self.str_para_int(cotistas[self.indice(cotistas, 'detalhamento do número de cotistas')+3])],\n",
    "            'ativo': [\"{:.2f}\".format(self.str_para_float(ativo[self.indice(ativo, 'Ativo – R$')+1]))],\n",
    "            'patrimonio': [\"{:.2f}\".format(self.str_para_float(ativo[self.indice(ativo, 'Patrimônio Líquido – R$')+1]))],\n",
    "            'cotas_emitidas': [self.str_para_float(ativo[self.indice(ativo, 'Cotas Emitidas')+1])],\n",
    "            'valor_patrimonial_cota': [self.str_para_float(ativo[self.indice(ativo, 'Valor Patrimonial das Cotas')+1])],\n",
    "            'valor_em_caixa': [\"{:.2f}\".format(self.str_para_float(ativo2[self.indice(ativo2, 'Total mantido para as Necessidades de Liquidez')+1]))],\n",
    "        })\n",
    "        \n",
    "        return df_info_fii\n",
    "    \n",
    "    def dados_basicos_fii(self):\n",
    "        link_requisicao = self.xhr_link(0) #dados basicos\n",
    "        dados_fii = self.json_api(link_requisicao)\n",
    "        \n",
    "        col_acronym = dados_fii['detailFund']['acronym']\n",
    "        col_tradingName = dados_fii['detailFund']['tradingName']\n",
    "        col_tradingCode = dados_fii['detailFund']['tradingCode'].strip()\n",
    "        col_cnpj = dados_fii['detailFund']['cnpj']\n",
    "        col_classification = dados_fii['detailFund']['classification']\n",
    "        col_website = dados_fii['detailFund']['webSite']\n",
    "\n",
    "        df_dados_fundos = pd.DataFrame({\n",
    "            'acronym': [col_acronym],\n",
    "            'tradingName': [col_tradingName],\n",
    "            'tradingCode': [col_tradingCode],\n",
    "            'cnpj': [col_cnpj],\n",
    "            'classification': [col_classification],\n",
    "            'webSite': [col_website],\n",
    "        })\n",
    "\n",
    "        return df_dados_fundos\n",
    "\n",
    "    def extract(self):\n",
    "        return pd.concat([self.dados_basicos_fii(), self.info_fii()], axis=1)\n",
    "\n",
    "# Example of usage:\n",
    "fii_codigo = \"XPML11\"\n"
   ]
  },
  {
   "cell_type": "code",
   "execution_count": null,
   "metadata": {},
   "outputs": [],
   "source": [
    "fii_extractor = FIIExtractor(fii_codigo)"
   ]
  }
 ],
 "metadata": {
  "kernelspec": {
   "display_name": "Python 3",
   "language": "python",
   "name": "python3"
  },
  "language_info": {
   "codemirror_mode": {
    "name": "ipython",
    "version": 3
   },
   "file_extension": ".py",
   "mimetype": "text/x-python",
   "name": "python",
   "nbconvert_exporter": "python",
   "pygments_lexer": "ipython3",
   "version": "3.11.5"
  },
  "orig_nbformat": 4
 },
 "nbformat": 4,
 "nbformat_minor": 2
}
